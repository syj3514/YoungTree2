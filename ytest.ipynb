{
 "cells": [
  {
   "cell_type": "code",
   "execution_count": 3,
   "metadata": {},
   "outputs": [],
   "source": [
    "import numpy as np\n",
    "import yroot\n",
    "import yleaf\n",
    "from ytool import *"
   ]
  },
  {
   "cell_type": "code",
   "execution_count": null,
   "metadata": {},
   "outputs": [],
   "source": [
    "def reducebackup(Tree:Treebase, iout:int, resultdir=None):\n",
    "    prefix = f\"[Reduce Backup file] ({iout})\"\n",
    "    clock = timer(text=prefix, verbose=Tree.verbose, debugger=Tree.debugger)\n",
    "\n",
    "    if not os.path.isfile(f\"{resultdir}ytree_{iout:05d}_temp.pickle\"):\n",
    "        raise FileNotFoundError(f\"`{resultdir}ytree_{iout:05d}_temp.pickle` is not found!\")\n",
    "    file, _ = pklload(f\"{resultdir}ytree_{iout:05d}_temp.pickle\")\n",
    "    if isinstance(file, dict):\n",
    "        keys = list(file.keys())\n",
    "        count = 0\n",
    "        for key in keys:\n",
    "            gals = file[key]['gal'] if count==0 else np.hstack((gals, file[key]['gal']))\n",
    "            count += 1\n",
    "        pklsave(gals, f\"{resultdir}ytree_{iout:05d}.pickle\", overwrite=True)\n",
    "        dprint_(f\"{prefix} Save `{resultdir}ytree_{iout:05d}.pickle`\", Tree.debugger)\n",
    "        os.remove(f\"{resultdir}ytree_{iout:05d}_temp.pickle\")\n",
    "        dprint_(f\"{prefix} Remove `{resultdir}ytree_{iout:05d}_temp.pickle`\", Tree.debugger)\n",
    "    clock.done()"
   ]
  },
  {
   "cell_type": "code",
   "execution_count": 11,
   "metadata": {},
   "outputs": [],
   "source": [
    "data = pklload(\"/storage3/Clusters/24954/YoungTree/ytree_00157_temp.pickle\")"
   ]
  },
  {
   "cell_type": "code",
   "execution_count": 12,
   "metadata": {},
   "outputs": [
    {
     "data": {
      "text/plain": [
       "dict_keys([1, 2, 3, 4, 5, 6, 7, 8, 9, 10, 11, 12, 13, 14, 15, 16, 17, 18, 19, 20, 21, 22, 23, 24, 25, 26, 27, 28, 29, 30, 31, 32, 33, 34, 35, 36, 37, 38, 39, 40, 41, 42, 43, 44, 45, 46, 47, 48, 49, 50, 51, 52, 53, 54, 55, 56, 57, 58, 59, 60, 61, 62, 63, 64, 65, 66, 67, 68, 69, 70, 71, 72, 73, 74, 75, 76, 77, 78, 79, 80, 81, 82, 83, 84, 85, 86, 87, 88, 89, 90, 91, 92, 93, 94, 95, 96, 97, 98, 99, 100, 101, 102, 103, 104, 105, 106, 107, 108, 109, 110, 111, 112, 113, 114, 115, 116, 117, 118, 119, 120, 121, 122, 123, 124, 125, 126, 127, 128, 129, 130, 131, 132, 133, 134, 135, 136, 137, 138, 139, 140, 141, 142, 143, 144, 145, 146, 147, 148, 149, 150, 151, 152, 153, 154, 155, 156, 157, 158, 159, 160, 161, 162, 163, 164, 165, 166, 167, 168, 169, 170, 171, 172, 173, 174, 175, 176, 177, 178, 179, 180, 181, 182, 183, 184, 185, 186, 187, 188, 189, 190, 191, 192, 193, 194, 195, 196, 197, 198, 199, 200, 201, 202, 203, 204, 205, 206, 207, 208, 209, 210, 211, 212, 213, 214, 215, 216, 217, 218, 219, 220, 221, 222, 223, 224, 225, 226, 227, 228, 229, 230, 231, 232, 233, 234, 235, 236, 237, 238, 239, 240, 241, 242, 243, 244, 245, 246, 247, 248, 249, 250, 251, 252, 253, 254, 255, 256, 257, 258, 259, 260, 261, 262, 263, 264, 265, 266, 267, 268, 269, 270, 271, 272, 273, 274, 275, 276, 277, 278, 279, 280, 281, 282, 283, 284, 285, 286, 287, 288, 289, 290, 291, 292, 293, 294, 295, 296, 297, 298, 299, 300, 301, 302, 303, 304, 305, 306, 307, 308])"
      ]
     },
     "execution_count": 12,
     "metadata": {},
     "output_type": "execute_result"
    }
   ],
   "source": [
    "data[0].keys()"
   ]
  },
  {
   "cell_type": "code",
   "execution_count": 13,
   "metadata": {},
   "outputs": [
    {
     "data": {
      "text/plain": [
       "{'gal': (95457, 3, 157, 0.85, 4.5792133e+10, 0.22736067, 0.7740321, 0.42071304, -106.64914, -574.0463, -213.47754, 0.00025963, 0.00021268, 4.5792133e+10, array([[156,   4],\n",
       "        [155,   2],\n",
       "        [154,   5],\n",
       "        [153,   9],\n",
       "        [152,  11]]), array([[3.69412913, 0.99079718, 0.99063713, 0.712906  , 0.99978882],\n",
       "        [3.09831748, 0.98766664, 0.98775802, 0.12300279, 0.99989003],\n",
       "        [3.30502135, 0.98465126, 0.98515768, 0.33561743, 0.99959499],\n",
       "        [3.19321849, 0.98314017, 0.98302193, 0.22736019, 0.9996962 ],\n",
       "        [3.20353565, 0.98356024, 0.98305672, 0.2370903 , 0.9998284 ]]), array([[158,   5],\n",
       "        [159,   6],\n",
       "        [160,   7],\n",
       "        [161,   2],\n",
       "        [162,   9]]), array([[3.25738858, 0.99065359, 0.99039579, 0.27643164, 0.99990755],\n",
       "        [3.28121333, 0.98850323, 0.98777995, 0.30554562, 0.99938452],\n",
       "        [3.59746998, 0.98649655, 0.98488287, 0.62703542, 0.99905515],\n",
       "        [3.15327197, 0.98419779, 0.98328499, 0.18603559, 0.99975359],\n",
       "        [3.31259493, 0.98447113, 0.98178642, 0.34742696, 0.99891043]])),\n",
       " 'params': {'ncut': None, 'howmanystep': 5},\n",
       " 'part': {'nparts': 95457,\n",
       "  'id': array([    153,     184,     197, ..., 6291555, 6296012, 6296777],\n",
       "        dtype=int32),\n",
       "  'vx': array([-124.08350546, -144.18638279,  -76.57215758, ..., -153.3764551 ,\n",
       "         -203.90195894,  -51.66004864]),\n",
       "  'vy': array([-671.73916338, -759.56525778, -713.38038159, ..., -586.25406691,\n",
       "         -522.58570184, -640.31020855]),\n",
       "  'vz': array([-165.92513018,   54.03200282, -229.36143625, ..., -387.15999374,\n",
       "         -346.07910261, -168.9810077 ]),\n",
       "  'weight': array([1.45491581e-05, 5.01762242e-06, 1.09943398e-05, ...,\n",
       "         9.09890454e-06, 9.52566989e-06, 1.68426571e-05])},\n",
       " 'saved': {'matchrate': {162: {9: (0.9844711277176352,\n",
       "     array([ True,  True,  True, ...,  True,  True,  True]))},\n",
       "   161: {2: (0.9841977911548491,\n",
       "     array([ True,  True,  True, ...,  True,  True,  True]))},\n",
       "   160: {7: (0.9864965517227778,\n",
       "     array([ True,  True,  True, ...,  True,  True,  True]))},\n",
       "   159: {6: (0.9885032314059737,\n",
       "     array([ True,  True,  True, ...,  True,  True,  True]))},\n",
       "   158: {5: (0.990653590707963,\n",
       "     array([ True,  True,  True, ...,  True,  True,  True]))},\n",
       "   156: {4: (0.9907971782153767,\n",
       "     array([ True,  True,  True, ...,  True,  True,  True]))},\n",
       "   155: {2: (0.9876666379030589,\n",
       "     array([ True,  True,  True, ...,  True,  True,  True]))},\n",
       "   154: {5: (0.9846512556040261,\n",
       "     array([ True,  True,  True, ...,  True,  True,  True]))},\n",
       "   153: {9: (0.9831401718647552,\n",
       "     array([ True,  True,  True, ...,  True,  True,  True]))},\n",
       "   152: {11: (0.9835602358443172,\n",
       "     array([ True,  True,  True, ...,  True,  True,  True]))}},\n",
       "  'veloffset': {162: {9: 0.3474269589720014},\n",
       "   161: {2: 0.18603558747021398},\n",
       "   160: {7: 0.6270354154954076},\n",
       "   159: {6: 0.30554562459581636},\n",
       "   158: {5: 0.27643164245636553},\n",
       "   156: {4: 0.7129059999961278},\n",
       "   155: {2: 0.12300279164513706},\n",
       "   154: {5: 0.33561742710310993},\n",
       "   153: {9: 0.22736019207331082},\n",
       "   152: {11: 0.2370902993446502}}}}"
      ]
     },
     "execution_count": 13,
     "metadata": {},
     "output_type": "execute_result"
    }
   ],
   "source": [
    "data[0][3]"
   ]
  },
  {
   "cell_type": "code",
   "execution_count": 3,
   "metadata": {},
   "outputs": [],
   "source": [
    "isind = large_isind"
   ]
  },
  {
   "cell_type": "code",
   "execution_count": 4,
   "metadata": {},
   "outputs": [
    {
     "data": {
      "text/plain": [
       "CPUDispatcher(<function large_isind at 0x7fd436cb4ca0>)"
      ]
     },
     "execution_count": 4,
     "metadata": {},
     "output_type": "execute_result"
    }
   ],
   "source": [
    "isind"
   ]
  },
  {
   "cell_type": "code",
   "execution_count": 7,
   "metadata": {},
   "outputs": [
    {
     "data": {
      "text/plain": [
       "80"
      ]
     },
     "execution_count": 7,
     "metadata": {},
     "output_type": "execute_result"
    }
   ],
   "source": [
    "from numba.core.config import NUMBA_NUM_THREADS\n",
    "NUMBA_NUM_THREADS"
   ]
  },
  {
   "cell_type": "code",
   "execution_count": 2,
   "metadata": {},
   "outputs": [
    {
     "data": {
      "text/plain": [
       "array([1., 1., 1.])"
      ]
     },
     "execution_count": 2,
     "metadata": {},
     "output_type": "execute_result"
    }
   ],
   "source": [
    "import numpy as np\n",
    "a = np.array([1])\n",
    "np.percentile(a, q=[16,50,84])"
   ]
  },
  {
   "cell_type": "code",
   "execution_count": null,
   "metadata": {},
   "outputs": [],
   "source": []
  },
  {
   "cell_type": "code",
   "execution_count": 73,
   "metadata": {},
   "outputs": [],
   "source": [
    "def a1(a,b):\n",
    "    return np.sum(a*b)\n",
    "\n",
    "def a2(a,b):\n",
    "    return np.convolve( a,b[::-1], mode='valid' )[0]\n",
    "\n",
    "import numba as nb\n",
    "@nb.njit(fastmath=True)\n",
    "def a3(a:np.ndarray,b:np.ndarray)->float:\n",
    "    n:int = len(a)\n",
    "    s:float = 0.\n",
    "    for i in nb.prange(n):\n",
    "        s += a[i]*b[i]\n",
    "    return s\n",
    "\n",
    "@nb.jit(parallel=True)\n",
    "def a4(a,b):\n",
    "    n = len(a)\n",
    "    result = np.full(n, 0., dtype=np.float64)\n",
    "    for i in nb.prange(n):\n",
    "        result[i] = a[i]*b[i]\n",
    "    return np.sum(result)"
   ]
  },
  {
   "cell_type": "code",
   "execution_count": 35,
   "metadata": {},
   "outputs": [],
   "source": [
    "a = np.random.rand(100000)\n",
    "b = np.random.rand(100000)"
   ]
  },
  {
   "cell_type": "code",
   "execution_count": 72,
   "metadata": {},
   "outputs": [
    {
     "data": {
      "text/plain": [
       "(24919.238693341762, 24919.23869334176, 24919.238693341747)"
      ]
     },
     "execution_count": 72,
     "metadata": {},
     "output_type": "execute_result"
    }
   ],
   "source": [
    "a1(a,b), a2(a,b), a3(a,b)"
   ]
  },
  {
   "cell_type": "code",
   "execution_count": 49,
   "metadata": {},
   "outputs": [
    {
     "name": "stdout",
     "output_type": "stream",
     "text": [
      "119 µs ± 435 ns per loop (mean ± std. dev. of 3 runs, 10,000 loops each)\n"
     ]
    }
   ],
   "source": [
    "%timeit -n 10000 -r 3 a1(a,b)"
   ]
  },
  {
   "cell_type": "code",
   "execution_count": 47,
   "metadata": {},
   "outputs": [
    {
     "name": "stdout",
     "output_type": "stream",
     "text": [
      "17.9 µs ± 196 ns per loop (mean ± std. dev. of 3 runs, 10,000 loops each)\n"
     ]
    }
   ],
   "source": [
    "%timeit -n 10000 -r 3 a2(a,b)"
   ]
  },
  {
   "cell_type": "code",
   "execution_count": 76,
   "metadata": {},
   "outputs": [
    {
     "name": "stdout",
     "output_type": "stream",
     "text": [
      "53.9 µs ± 130 ns per loop (mean ± std. dev. of 3 runs, 10,000 loops each)\n"
     ]
    }
   ],
   "source": [
    "%timeit -n 10000 -r 3 a3(a,b)"
   ]
  },
  {
   "cell_type": "code",
   "execution_count": 10,
   "metadata": {},
   "outputs": [
    {
     "data": {
      "text/plain": [
       "18"
      ]
     },
     "execution_count": 10,
     "metadata": {},
     "output_type": "execute_result"
    }
   ],
   "source": [
    "np.convolve( a,b[::-1], mode='valid' )[0]"
   ]
  },
  {
   "cell_type": "code",
   "execution_count": null,
   "metadata": {},
   "outputs": [],
   "source": []
  },
  {
   "cell_type": "code",
   "execution_count": 9,
   "metadata": {},
   "outputs": [],
   "source": [
    "import psutil\n",
    "import random\n",
    "import threading\n",
    "import time\n",
    "\n",
    "class DisplayCPU(threading.Thread):\n",
    "    def __enter__(self):\n",
    "        print(\"enter\")\n",
    "        self.start()\n",
    "        self.ref = time.time()\n",
    "        print(\"enter end\")\n",
    "\n",
    "    def __exit__(self, exc_type, exc_val, exc_tb):\n",
    "        print(\"exit\")\n",
    "        self.stop()\n",
    "        print(\"exit end\")\n",
    "\n",
    "    def run(self):\n",
    "        print(\"run\")\n",
    "        self.go = False\n",
    "        self.running = True\n",
    "\n",
    "        currentProcess = psutil.Process()\n",
    "\n",
    "        while self.running and (time.time()-self.ref < 10):\n",
    "            print(currentProcess.cpu_percent(interval=1))\n",
    "        print(\"run end\")\n",
    "\n",
    "    def stop(self):\n",
    "        print(\"stop\")\n",
    "        self.ref = -1\n",
    "        self.running = False\n",
    "        print(\"stop end\")\n",
    "\n",
    "# ----\n",
    "\n",
    "def i_hate_this():\n",
    "    print(\"hate\")\n",
    "    tab = []\n",
    "    for i in range(1000000):\n",
    "        tab.append(random.randint(1, 10000))\n",
    "    tab.sort()\n",
    "    print(\"hate end\")\n",
    "    return tab"
   ]
  },
  {
   "cell_type": "code",
   "execution_count": 11,
   "metadata": {},
   "outputs": [
    {
     "data": {
      "text/plain": [
       "'i_hate_this'"
      ]
     },
     "execution_count": 11,
     "metadata": {},
     "output_type": "execute_result"
    }
   ],
   "source": [
    "i_hate_this.__name__"
   ]
  },
  {
   "cell_type": "code",
   "execution_count": null,
   "metadata": {},
   "outputs": [],
   "source": []
  },
  {
   "cell_type": "code",
   "execution_count": 16,
   "metadata": {},
   "outputs": [],
   "source": [
    "import numpy as np\n",
    "isind = lambda a,b: np.where(np.isin(a,b))[0]"
   ]
  },
  {
   "cell_type": "code",
   "execution_count": 18,
   "metadata": {},
   "outputs": [
    {
     "data": {
      "text/plain": [
       "array([False,  True,  True,  True, False, False, False, False, False,\n",
       "       False])"
      ]
     },
     "execution_count": 18,
     "metadata": {},
     "output_type": "execute_result"
    }
   ],
   "source": [
    "isin = np.isin\n",
    "isin(np.arange(10), np.array([1,2,3]))"
   ]
  },
  {
   "cell_type": "code",
   "execution_count": 17,
   "metadata": {},
   "outputs": [
    {
     "data": {
      "text/plain": [
       "array([1, 2, 3])"
      ]
     },
     "execution_count": 17,
     "metadata": {},
     "output_type": "execute_result"
    }
   ],
   "source": [
    "isind(np.arange(10), np.array([1,2,3]))"
   ]
  },
  {
   "cell_type": "code",
   "execution_count": 26,
   "metadata": {},
   "outputs": [
    {
     "name": "stdout",
     "output_type": "stream",
     "text": [
      "97.9\n",
      "84.0\n",
      "78.5\n",
      "84.0\n",
      "112.2\n",
      "115.3\n",
      "86.9\n",
      "98.0\n",
      "98.2\n",
      "83.5\n",
      "98.2\n",
      "118.9\n"
     ]
    }
   ],
   "source": [
    "display_cpu = DisplayCPU()\n",
    "\n",
    "display_cpu.start()\n",
    "try:\n",
    "    result = i_hate_this()\n",
    "finally: # stop thread even when I press Ctrl+C\n",
    "    display_cpu.stop()"
   ]
  },
  {
   "cell_type": "code",
   "execution_count": 10,
   "metadata": {},
   "outputs": [
    {
     "name": "stdout",
     "output_type": "stream",
     "text": [
      "enter\n",
      "run\n",
      "enter end\n",
      "hate\n",
      "hate end\n",
      "exit\n",
      "stop\n",
      "stop end\n",
      "exit end\n"
     ]
    },
    {
     "name": "stdout",
     "output_type": "stream",
     "text": [
      "70.1\n",
      "run end\n"
     ]
    }
   ],
   "source": [
    "display_cpu = DisplayCPU()\n",
    "display_cpu.ref = time.time()\n",
    "with display_cpu:\n",
    "    i_hate_this()"
   ]
  },
  {
   "cell_type": "code",
   "execution_count": 4,
   "metadata": {},
   "outputs": [],
   "source": [
    "from rur import uri\n",
    "from rur.sci import photometry"
   ]
  },
  {
   "cell_type": "code",
   "execution_count": 5,
   "metadata": {},
   "outputs": [],
   "source": [
    "backups = pklload(\"/storage3/Clusters/07206/YoungTree/ytree_00117.pickle\")"
   ]
  },
  {
   "cell_type": "code",
   "execution_count": 7,
   "metadata": {},
   "outputs": [
    {
     "data": {
      "text/plain": [
       "(392,)"
      ]
     },
     "execution_count": 7,
     "metadata": {},
     "output_type": "execute_result"
    }
   ],
   "source": [
    "backups.shape"
   ]
  },
  {
   "cell_type": "code",
   "execution_count": 9,
   "metadata": {},
   "outputs": [
    {
     "data": {
      "text/plain": [
       "((135956, 1, 117, 0.65000004, 6.341491e+10, 0.22753587, 0.38074753, 0.5141741, 197.13655, 215.45401, 54.09123, 0.000851, 0.00040146, 6.051862e+10, array([[116,   1],\n",
       "        [115,   1],\n",
       "        [114,   1],\n",
       "        [113,   3],\n",
       "        [113, 366],\n",
       "        [112,   2],\n",
       "        [112, 360]]), array([[3.77491877, 0.95820116, 0.94262481, 0.8853901 , 0.98870271],\n",
       "        [3.67953292, 0.94513646, 0.91963217, 0.8340207 , 0.98074359],\n",
       "        [3.52424307, 0.94355837, 0.89675284, 0.71883164, 0.96510023],\n",
       "        [3.18660495, 0.8226217 , 0.87902973, 0.49747592, 0.9874776 ],\n",
       "        [1.73318215, 0.10988932, 0.96580602, 0.23057275, 0.42691407],\n",
       "        [2.83970921, 0.73514534, 0.87760714, 0.28467841, 0.94227833],\n",
       "        [1.89516662, 0.18489239, 0.93958878, 0.22794081, 0.54274464]]), array([[118,   1],\n",
       "        [119,   1],\n",
       "        [120,   1],\n",
       "        [120, 323],\n",
       "        [121,   1],\n",
       "        [121, 320],\n",
       "        [122,   1],\n",
       "        [122, 318]]), array([[3.80362497, 0.94360824, 0.95787307, 0.91105617, 0.9910875 ],\n",
       "        [3.67118926, 0.9274115 , 0.9401827 , 0.81423305, 0.989362  ],\n",
       "        [3.59220744, 0.90393924, 0.92512415, 0.77933261, 0.98381144],\n",
       "        [1.32648935, 0.01346537, 0.99592659, 0.15484225, 0.16225514],\n",
       "        [2.73818459, 0.89178243, 0.87894514, 0.03572723, 0.93172979],\n",
       "        [1.37603289, 0.02290959, 0.99095578, 0.1546373 , 0.20753022],\n",
       "        [2.55173598, 0.86607156, 0.78162395, 0.02043481, 0.88360566],\n",
       "        [1.4426274 , 0.0490723 , 0.98951032, 0.11327869, 0.29076609]])),\n",
       " dtype([('nparts', '<i4'), ('id', '<i4'), ('timestep', '<i4'), ('aexp', '<f4'), ('m', '<f4'), ('x', '<f4'), ('y', '<f4'), ('z', '<f4'), ('vx', '<f4'), ('vy', '<f4'), ('vz', '<f4'), ('r', '<f4'), ('rvir', '<f4'), ('mvir', '<f4'), ('prog', 'O'), ('prog_score', 'O'), ('desc', 'O'), ('desc_score', 'O')]))"
      ]
     },
     "execution_count": 9,
     "metadata": {},
     "output_type": "execute_result"
    }
   ],
   "source": [
    "backups[0], backups[0].dtype"
   ]
  },
  {
   "cell_type": "code",
   "execution_count": 10,
   "metadata": {},
   "outputs": [],
   "source": [
    "backup = pklload(\"/storage3/Clusters/07206/YoungTree/ytree_00010_temp.pickle\")"
   ]
  },
  {
   "cell_type": "code",
   "execution_count": 27,
   "metadata": {},
   "outputs": [
    {
     "data": {
      "text/plain": [
       "112"
      ]
     },
     "execution_count": 27,
     "metadata": {},
     "output_type": "execute_result"
    }
   ],
   "source": [
    "import sys\n",
    "sys.getsizeof(backup[0][1]['saved']['matchrate'][15][1][1])"
   ]
  },
  {
   "cell_type": "code",
   "execution_count": 29,
   "metadata": {},
   "outputs": [
    {
     "data": {
      "text/plain": [
       "{1: (0.8966794973880926,\n",
       "  array([ True,  True,  True,  True, False,  True,  True,  True, False,\n",
       "          True,  True,  True,  True,  True,  True,  True, False,  True,\n",
       "          True,  True,  True,  True,  True,  True,  True,  True,  True,\n",
       "         False, False,  True,  True,  True,  True, False,  True, False,\n",
       "          True,  True,  True,  True,  True,  True, False,  True,  True,\n",
       "          True,  True,  True,  True,  True,  True,  True, False, False,\n",
       "          True,  True,  True,  True,  True,  True, False, False, False,\n",
       "          True,  True,  True,  True,  True,  True, False,  True,  True,\n",
       "         False, False, False,  True,  True, False,  True,  True,  True,\n",
       "          True,  True,  True,  True,  True,  True,  True,  True,  True,\n",
       "          True, False,  True,  True, False,  True, False,  True,  True,\n",
       "          True,  True,  True,  True, False, False,  True,  True, False,\n",
       "          True,  True,  True, False,  True,  True, False,  True,  True,\n",
       "          True,  True,  True,  True,  True,  True,  True, False,  True,\n",
       "          True, False,  True,  True, False,  True,  True,  True,  True,\n",
       "          True,  True,  True,  True,  True,  True,  True,  True,  True,\n",
       "          True,  True,  True, False,  True,  True,  True, False,  True,\n",
       "          True,  True,  True,  True,  True,  True, False,  True,  True,\n",
       "          True,  True,  True,  True,  True,  True, False,  True,  True,\n",
       "          True,  True,  True,  True,  True,  True,  True,  True,  True,\n",
       "          True,  True,  True,  True,  True,  True,  True,  True,  True,\n",
       "          True, False,  True,  True,  True,  True,  True,  True,  True,\n",
       "          True,  True, False,  True,  True,  True,  True,  True,  True,\n",
       "          True,  True,  True,  True,  True,  True,  True,  True, False,\n",
       "          True,  True,  True,  True,  True,  True,  True,  True,  True,\n",
       "          True,  True,  True,  True,  True,  True,  True,  True,  True,\n",
       "         False,  True, False,  True,  True,  True,  True,  True, False,\n",
       "          True, False,  True,  True,  True,  True,  True,  True,  True,\n",
       "          True,  True,  True,  True,  True,  True,  True,  True,  True,\n",
       "         False,  True,  True,  True,  True,  True,  True,  True,  True,\n",
       "          True,  True,  True, False, False,  True,  True, False,  True,\n",
       "          True, False, False,  True,  True,  True,  True,  True,  True,\n",
       "         False, False, False, False,  True,  True,  True, False,  True,\n",
       "         False,  True, False,  True,  True,  True,  True,  True,  True,\n",
       "          True,  True,  True,  True,  True,  True,  True, False,  True,\n",
       "          True,  True,  True,  True,  True,  True,  True,  True,  True,\n",
       "          True,  True,  True, False,  True,  True,  True,  True,  True,\n",
       "          True,  True,  True,  True,  True,  True, False,  True,  True,\n",
       "          True,  True,  True,  True,  True,  True,  True,  True,  True,\n",
       "          True,  True,  True,  True,  True, False,  True,  True, False,\n",
       "          True,  True,  True,  True,  True,  True,  True,  True,  True,\n",
       "          True,  True,  True,  True,  True,  True,  True,  True,  True,\n",
       "          True,  True,  True,  True,  True,  True,  True,  True,  True,\n",
       "          True,  True,  True, False,  True,  True,  True,  True,  True,\n",
       "          True,  True,  True,  True,  True,  True,  True,  True, False,\n",
       "          True,  True, False,  True,  True,  True,  True,  True,  True,\n",
       "          True,  True,  True,  True,  True,  True,  True,  True,  True,\n",
       "         False,  True,  True,  True,  True, False,  True,  True, False,\n",
       "         False,  True,  True])),\n",
       " 22: (0.0026577772791264932,\n",
       "  array([False, False, False, False, False, False, False, False, False,\n",
       "         False, False, False, False, False, False, False, False, False,\n",
       "         False, False, False, False, False, False, False, False, False,\n",
       "         False, False, False, False, False, False, False, False, False,\n",
       "         False, False, False, False, False, False, False, False, False,\n",
       "         False, False, False, False, False, False, False, False, False,\n",
       "         False, False, False, False, False, False, False, False, False,\n",
       "         False, False, False, False, False, False, False, False, False,\n",
       "         False, False, False, False, False, False, False, False, False,\n",
       "         False, False, False, False, False, False, False, False, False,\n",
       "         False, False, False, False, False, False, False, False, False,\n",
       "         False, False, False, False, False, False, False, False, False,\n",
       "         False, False, False, False, False, False, False, False, False,\n",
       "         False, False, False, False, False, False, False, False, False,\n",
       "         False, False, False, False, False, False, False, False, False,\n",
       "         False, False, False, False, False, False, False, False, False,\n",
       "         False, False, False, False, False, False, False, False, False,\n",
       "         False, False, False, False, False, False, False, False, False,\n",
       "         False, False, False, False, False, False, False, False, False,\n",
       "         False, False, False, False, False, False, False, False, False,\n",
       "         False, False, False, False, False, False, False, False, False,\n",
       "         False, False, False, False, False, False, False, False, False,\n",
       "         False, False, False, False, False, False, False, False, False,\n",
       "         False, False, False, False, False, False, False, False, False,\n",
       "         False, False, False, False, False, False, False, False, False,\n",
       "         False, False, False, False, False, False, False, False, False,\n",
       "          True, False, False, False, False, False, False, False, False,\n",
       "         False, False, False, False, False, False, False, False, False,\n",
       "         False, False, False, False, False, False, False, False, False,\n",
       "         False, False, False, False, False, False, False, False, False,\n",
       "         False, False, False, False, False, False, False, False, False,\n",
       "         False, False, False, False, False, False, False, False, False,\n",
       "         False, False, False, False, False, False, False, False, False,\n",
       "         False, False, False, False, False, False, False, False, False,\n",
       "         False, False, False, False, False, False, False, False, False,\n",
       "         False, False, False, False, False, False, False, False, False,\n",
       "         False, False, False, False, False, False, False, False, False,\n",
       "         False, False, False, False, False, False, False, False, False,\n",
       "         False, False, False, False, False, False, False, False, False,\n",
       "         False, False, False, False, False, False, False, False, False,\n",
       "         False, False, False, False, False, False, False, False, False,\n",
       "         False, False, False, False, False, False, False, False, False,\n",
       "         False, False, False, False, False, False, False, False, False,\n",
       "         False, False, False, False, False, False, False, False, False,\n",
       "         False, False, False, False, False, False, False, False, False,\n",
       "         False, False, False, False, False, False, False, False, False,\n",
       "         False, False, False, False, False, False, False, False, False,\n",
       "         False, False, False, False, False, False, False, False, False,\n",
       "         False, False, False]))}"
      ]
     },
     "execution_count": 29,
     "metadata": {},
     "output_type": "execute_result"
    }
   ],
   "source": [
    "backup[0][1]['saved']['matchrate'][15]"
   ]
  },
  {
   "cell_type": "code",
   "execution_count": null,
   "metadata": {},
   "outputs": [],
   "source": []
  }
 ],
 "metadata": {
  "kernelspec": {
   "display_name": "Python 3.10.4 ('jeonpy': conda)",
   "language": "python",
   "name": "python3"
  },
  "language_info": {
   "codemirror_mode": {
    "name": "ipython",
    "version": 3
   },
   "file_extension": ".py",
   "mimetype": "text/x-python",
   "name": "python",
   "nbconvert_exporter": "python",
   "pygments_lexer": "ipython3",
   "version": "3.10.4"
  },
  "orig_nbformat": 4,
  "vscode": {
   "interpreter": {
    "hash": "928fe3b0bf83d1446d29d898280f37d3e1faf7b4f2cfa3ce909854a28f42a301"
   }
  }
 },
 "nbformat": 4,
 "nbformat_minor": 2
}
