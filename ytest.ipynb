{
 "cells": [
  {
   "cell_type": "code",
   "execution_count": 1,
   "metadata": {},
   "outputs": [],
   "source": [
    "import numpy as np\n",
    "import yroot\n",
    "import yleaf\n",
    "from ytool import *"
   ]
  },
  {
   "cell_type": "code",
   "execution_count": 4,
   "metadata": {},
   "outputs": [],
   "source": [
    "modenames = [\n",
    "            \"y01605\",\n",
    "            \"y04466\",\n",
    "            \"y05420\",\n",
    "            \"y05427\",\n",
    "            \"y06098\",\n",
    "            \"y07206\",\n",
    "            \"y10002\",\n",
    "            \"y17891\",\n",
    "            \"y24954\",\n",
    "            \"y29172\",\n",
    "            \"y29176\",\n",
    "            \"y35663\",\n",
    "            \"y36413\",\n",
    "            \"y36415\",\n",
    "            \"y39990\",\n",
    "            \"y49096\"\n",
    "            ]"
   ]
  },
  {
   "cell_type": "code",
   "execution_count": 8,
   "metadata": {},
   "outputs": [
    {
     "data": {
      "text/plain": [
       "False"
      ]
     },
     "execution_count": 8,
     "metadata": {},
     "output_type": "execute_result"
    }
   ],
   "source": [
    "a = \"sdfsadsasadatempasd\"\n",
    "\"temb\" in a"
   ]
  },
  {
   "cell_type": "code",
   "execution_count": 16,
   "metadata": {},
   "outputs": [
    {
     "name": "stdout",
     "output_type": "stream",
     "text": [
      "y01605 ['ytree_00107_temp.pickle', 'ytree_00108_temp.pickle', 'ytree_00103_temp.pickle', 'ytree_00101_temp.pickle', 'ytree_00106_temp.pickle', 'ytree_00105_temp.pickle', 'ytree_00104_temp.pickle', 'ytree_00110_temp.pickle', 'ytree_00109_temp.pickle', 'ytree_00111_temp.pickle', 'ytree_00102_temp.pickle']\n",
      "00107\n",
      "y04466 ['ytree_00025_temp.pickle', 'ytree_00024_temp.pickle', 'ytree_00023_temp.pickle', 'ytree_00022_temp.pickle', 'ytree_00020_temp.pickle', 'ytree_00021_temp.pickle']\n",
      "00025\n",
      "y05427 ['ytree_00008_temp.pickle', 'ytree_00014_temp.pickle', 'ytree_00013_temp.pickle', 'ytree_00012_temp.pickle', 'ytree_00010_temp.pickle', 'ytree_00011_temp.pickle']\n",
      "00008\n",
      "y06098 ['ytree_00015_temp.pickle', 'ytree_00014_temp.pickle', 'ytree_00013_temp.pickle', 'ytree_00012_temp.pickle', 'ytree_00011_temp.pickle', 'ytree_00010_temp.pickle']\n",
      "00015\n",
      "y07206 ['ytree_00015_temp.pickle', 'ytree_00014_temp.pickle', 'ytree_00013_temp.pickle', 'ytree_00012_temp.pickle', 'ytree_00011_temp.pickle', 'ytree_00010_temp.pickle']\n",
      "00015\n",
      "y29176 ['ytree_00118_temp.pickle', 'ytree_00119_temp.pickle', 'ytree_00114_temp.pickle', 'ytree_00112_temp.pickle', 'ytree_00117_temp.pickle', 'ytree_00116_temp.pickle', 'ytree_00115_temp.pickle', 'ytree_00110_temp.pickle', 'ytree_00111_temp.pickle', 'ytree_00113_temp.pickle']\n",
      "00118\n"
     ]
    }
   ],
   "source": [
    "for mode in modenames:\n",
    "    repo = f\"/storage3/Clusters/YoungTree/{mode[1:]}/\"\n",
    "    files = os.listdir(repo)\n",
    "    files = [file for file in files if \"temp\" in file]\n",
    "    if len(files)>0:\n",
    "        print(mode, files)\n",
    "        print(files[0][6:11])"
   ]
  },
  {
   "cell_type": "code",
   "execution_count": 19,
   "metadata": {},
   "outputs": [],
   "source": [
    "modes = [\"y04466\",\n",
    "\"y05427\",\n",
    "\"y06098\",\n",
    "\"y07206\"]"
   ]
  },
  {
   "cell_type": "code",
   "execution_count": 14,
   "metadata": {},
   "outputs": [
    {
     "data": {
      "text/plain": [
       "[]"
      ]
     },
     "execution_count": 14,
     "metadata": {},
     "output_type": "execute_result"
    }
   ],
   "source": [
    "files"
   ]
  },
  {
   "cell_type": "code",
   "execution_count": 20,
   "metadata": {},
   "outputs": [
    {
     "data": {
      "text/plain": [
       "['y04466', 'y05427', 'y06098', 'y07206']"
      ]
     },
     "execution_count": 20,
     "metadata": {},
     "output_type": "execute_result"
    }
   ],
   "source": [
    "modes"
   ]
  },
  {
   "cell_type": "code",
   "execution_count": 33,
   "metadata": {},
   "outputs": [
    {
     "name": "stdout",
     "output_type": "stream",
     "text": [
      "Save `/storage3/Clusters/YoungTree/04466/ytree_00025.pickle`\n",
      "Save `/storage3/Clusters/YoungTree/04466/ytree_00024.pickle`\n",
      "Save `/storage3/Clusters/YoungTree/04466/ytree_00023.pickle`\n",
      "Save `/storage3/Clusters/YoungTree/04466/ytree_00022.pickle`\n",
      "Save `/storage3/Clusters/YoungTree/04466/ytree_00020.pickle`\n",
      "Save `/storage3/Clusters/YoungTree/04466/ytree_00021.pickle`\n",
      "Save `/storage3/Clusters/YoungTree/05427/ytree_00008.pickle`\n",
      "Save `/storage3/Clusters/YoungTree/05427/ytree_00014.pickle`\n",
      "Save `/storage3/Clusters/YoungTree/05427/ytree_00013.pickle`\n",
      "Save `/storage3/Clusters/YoungTree/05427/ytree_00012.pickle`\n",
      "Save `/storage3/Clusters/YoungTree/05427/ytree_00010.pickle`\n",
      "Save `/storage3/Clusters/YoungTree/05427/ytree_00011.pickle`\n",
      "Save `/storage3/Clusters/YoungTree/06098/ytree_00015.pickle`\n",
      "Save `/storage3/Clusters/YoungTree/06098/ytree_00014.pickle`\n",
      "Save `/storage3/Clusters/YoungTree/06098/ytree_00013.pickle`\n",
      "Save `/storage3/Clusters/YoungTree/06098/ytree_00012.pickle`\n",
      "Save `/storage3/Clusters/YoungTree/06098/ytree_00011.pickle`\n",
      "Save `/storage3/Clusters/YoungTree/06098/ytree_00010.pickle`\n",
      "Save `/storage3/Clusters/YoungTree/07206/ytree_00015.pickle`\n",
      "Save `/storage3/Clusters/YoungTree/07206/ytree_00014.pickle`\n",
      "Save `/storage3/Clusters/YoungTree/07206/ytree_00013.pickle`\n",
      "Save `/storage3/Clusters/YoungTree/07206/ytree_00012.pickle`\n",
      "Save `/storage3/Clusters/YoungTree/07206/ytree_00011.pickle`\n",
      "Save `/storage3/Clusters/YoungTree/07206/ytree_00010.pickle`\n"
     ]
    }
   ],
   "source": [
    "for mode in modes:\n",
    "    resultdir = f\"/storage3/Clusters/YoungTree/{mode[1:]}/\"\n",
    "    files = os.listdir(resultdir)\n",
    "    files = [file for file in files if file.endswith(\"pickle\")]\n",
    "    fnames = [file for file in files if \"temp\" in file]\n",
    "    # print(fnames)\n",
    "    # raise ValueError(\"stop\")\n",
    "    for fname in fnames:\n",
    "        iout = int(fname[6:11])\n",
    "        file, _ = pklload(f\"{resultdir}{fname}\")\n",
    "        if isinstance(file, dict):\n",
    "            keys = list(file.keys())\n",
    "            count = 0\n",
    "            for key in keys:\n",
    "                gals = file[key]['gal'] if count==0 else np.hstack((gals, file[key]['gal']))\n",
    "                count += 1\n",
    "            pklsave(gals, f\"{resultdir}ytree_{iout:05d}.pickle\", overwrite=True)\n",
    "            print(f\"Save `{resultdir}ytree_{iout:05d}.pickle`\")\n",
    "            # os.remove(fname)\n",
    "            # print(f\"Remove `{resultdir}ytree_{iout:05d}_temp.pickle`\")\n",
    "        del gals"
   ]
  },
  {
   "cell_type": "code",
   "execution_count": 16,
   "metadata": {},
   "outputs": [
    {
     "data": {
      "text/plain": [
       "(153, 0, 35)"
      ]
     },
     "execution_count": 16,
     "metadata": {},
     "output_type": "execute_result"
    }
   ],
   "source": []
  },
  {
   "cell_type": "code",
   "execution_count": 18,
   "metadata": {},
   "outputs": [],
   "source": [
    "a = 3\n",
    "b = a\n",
    "c = a"
   ]
  },
  {
   "cell_type": "code",
   "execution_count": 20,
   "metadata": {},
   "outputs": [
    {
     "ename": "TypeError",
     "evalue": "gc.get_count() takes no arguments (1 given)",
     "output_type": "error",
     "traceback": [
      "\u001b[0;31m---------------------------------------------------------------------------\u001b[0m",
      "\u001b[0;31mTypeError\u001b[0m                                 Traceback (most recent call last)",
      "\u001b[1;32m/home/jeon/YoungTree2/ytest.ipynb Cell 5\u001b[0m in \u001b[0;36m<cell line: 1>\u001b[0;34m()\u001b[0m\n\u001b[0;32m----> <a href='vscode-notebook-cell://ssh-remote%2B7b22686f73744e616d65223a2247433130227d/home/jeon/YoungTree2/ytest.ipynb#X60sdnNjb2RlLXJlbW90ZQ%3D%3D?line=0'>1</a>\u001b[0m gc\u001b[39m.\u001b[39;49mget_count(a)\n",
      "\u001b[0;31mTypeError\u001b[0m: gc.get_count() takes no arguments (1 given)"
     ]
    }
   ],
   "source": [
    "gc.get_count(a)"
   ]
  },
  {
   "cell_type": "code",
   "execution_count": 30,
   "metadata": {},
   "outputs": [],
   "source": [
    "import weakref"
   ]
  },
  {
   "cell_type": "code",
   "execution_count": 35,
   "metadata": {},
   "outputs": [],
   "source": [
    "class test:\n",
    "    def __init__(self, val):\n",
    "        self.val = np.arange(1000000)\n",
    "        self.name = f\"{val}\""
   ]
  },
  {
   "cell_type": "code",
   "execution_count": 59,
   "metadata": {},
   "outputs": [],
   "source": [
    "insts = [test(0), test(1), test(2), test(3)]"
   ]
  },
  {
   "cell_type": "code",
   "execution_count": 68,
   "metadata": {},
   "outputs": [],
   "source": [
    "dict_test = {}"
   ]
  },
  {
   "cell_type": "code",
   "execution_count": 69,
   "metadata": {},
   "outputs": [],
   "source": [
    "for i in range(4):\n",
    "    dict_test[i] = weakref.ref(test(i))"
   ]
  },
  {
   "cell_type": "code",
   "execution_count": 70,
   "metadata": {},
   "outputs": [
    {
     "data": {
      "text/plain": [
       "{0: <weakref at 0x7fecd875e8e0; dead>,\n",
       " 1: <weakref at 0x7fecd8ada250; dead>,\n",
       " 2: <weakref at 0x7fecd8760450; dead>,\n",
       " 3: <weakref at 0x7fecd87604a0; dead>}"
      ]
     },
     "execution_count": 70,
     "metadata": {},
     "output_type": "execute_result"
    }
   ],
   "source": [
    "dict_test"
   ]
  },
  {
   "cell_type": "code",
   "execution_count": 61,
   "metadata": {},
   "outputs": [],
   "source": [
    "for inst in insts:\n",
    "    dict_test[inst.name] = weakref.ref(inst)\n",
    "    # dict_test[inst.name] = inst"
   ]
  },
  {
   "cell_type": "code",
   "execution_count": 62,
   "metadata": {},
   "outputs": [],
   "source": [
    "insts[0].val = 3"
   ]
  },
  {
   "cell_type": "code",
   "execution_count": 63,
   "metadata": {},
   "outputs": [
    {
     "data": {
      "text/plain": [
       "{'0': <__main__.test at 0x7fecd8a77520>,\n",
       " '1': <__main__.test at 0x7fecd8a5a140>,\n",
       " '2': <__main__.test at 0x7fecd8a59d80>,\n",
       " '3': <__main__.test at 0x7fecd8a58550>}"
      ]
     },
     "execution_count": 63,
     "metadata": {},
     "output_type": "execute_result"
    }
   ],
   "source": [
    "dict_test"
   ]
  },
  {
   "cell_type": "code",
   "execution_count": 64,
   "metadata": {},
   "outputs": [],
   "source": [
    "del insts"
   ]
  },
  {
   "cell_type": "code",
   "execution_count": 65,
   "metadata": {},
   "outputs": [
    {
     "data": {
      "text/plain": [
       "{'0': <__main__.test at 0x7fecd8a77520>,\n",
       " '1': <__main__.test at 0x7fecd8a5a140>,\n",
       " '2': <__main__.test at 0x7fecd8a59d80>,\n",
       " '3': <__main__.test at 0x7fecd8a58550>}"
      ]
     },
     "execution_count": 65,
     "metadata": {},
     "output_type": "execute_result"
    }
   ],
   "source": [
    "dict_test"
   ]
  },
  {
   "cell_type": "code",
   "execution_count": 44,
   "metadata": {},
   "outputs": [],
   "source": [
    "del insts"
   ]
  },
  {
   "cell_type": "code",
   "execution_count": 45,
   "metadata": {},
   "outputs": [
    {
     "data": {
      "text/plain": [
       "{'0': <weakref at 0x7fecd8712160; to 'test' at 0x7fecd8a59ea0>,\n",
       " '1': <weakref at 0x7fecd889dc60; dead>,\n",
       " '2': <weakref at 0x7fecd889df30; dead>,\n",
       " '3': <weakref at 0x7fecd889d990; to 'test' at 0x7fed4b613700>}"
      ]
     },
     "execution_count": 45,
     "metadata": {},
     "output_type": "execute_result"
    }
   ],
   "source": [
    "dict_test"
   ]
  },
  {
   "cell_type": "code",
   "execution_count": 51,
   "metadata": {},
   "outputs": [],
   "source": [
    "dict_test['1']"
   ]
  },
  {
   "cell_type": "code",
   "execution_count": 22,
   "metadata": {},
   "outputs": [],
   "source": [
    "a = test(None)\n",
    "b = test(None)"
   ]
  },
  {
   "cell_type": "code",
   "execution_count": 29,
   "metadata": {},
   "outputs": [],
   "source": [
    "test.__init__.__defaults__"
   ]
  },
  {
   "cell_type": "code",
   "execution_count": 23,
   "metadata": {},
   "outputs": [
    {
     "data": {
      "text/plain": [
       "(140655235092576, 140655235092768)"
      ]
     },
     "execution_count": 23,
     "metadata": {},
     "output_type": "execute_result"
    }
   ],
   "source": [
    "id(a), id(b)"
   ]
  },
  {
   "cell_type": "code",
   "execution_count": 24,
   "metadata": {},
   "outputs": [
    {
     "data": {
      "text/plain": [
       "False"
      ]
     },
     "execution_count": 24,
     "metadata": {},
     "output_type": "execute_result"
    }
   ],
   "source": [
    "a == b"
   ]
  },
  {
   "cell_type": "code",
   "execution_count": 25,
   "metadata": {},
   "outputs": [
    {
     "data": {
      "text/plain": [
       "False"
      ]
     },
     "execution_count": 25,
     "metadata": {},
     "output_type": "execute_result"
    }
   ],
   "source": [
    "a is b"
   ]
  },
  {
   "cell_type": "code",
   "execution_count": 76,
   "metadata": {},
   "outputs": [],
   "source": [
    "del a"
   ]
  },
  {
   "cell_type": "code",
   "execution_count": 11,
   "metadata": {},
   "outputs": [
    {
     "name": "stdout",
     "output_type": "stream",
     "text": [
      "243.35546875\n",
      "259.15234375\n"
     ]
    }
   ],
   "source": [
    "print(MB())\n",
    "time.sleep(1)\n",
    "a = test(3)\n",
    "time.sleep(1)\n",
    "print(MB())"
   ]
  },
  {
   "cell_type": "code",
   "execution_count": 12,
   "metadata": {},
   "outputs": [
    {
     "name": "stdout",
     "output_type": "stream",
     "text": [
      "259.15234375\n",
      "259.15234375\n",
      "279.69140625\n",
      "279.69140625\n"
     ]
    }
   ],
   "source": [
    "print(MB())\n",
    "d = {}\n",
    "print(MB())\n",
    "d[1] = test(4)\n",
    "print(MB())\n",
    "d[2] = a\n",
    "print(MB())"
   ]
  },
  {
   "cell_type": "code",
   "execution_count": 14,
   "metadata": {},
   "outputs": [
    {
     "name": "stdout",
     "output_type": "stream",
     "text": [
      "279.69140625\n",
      "279.91796875\n"
     ]
    }
   ],
   "source": [
    "print(MB())\n",
    "d[1].val = d[1].val/2\n",
    "print(MB())"
   ]
  },
  {
   "cell_type": "code",
   "execution_count": 15,
   "metadata": {},
   "outputs": [
    {
     "name": "stdout",
     "output_type": "stream",
     "text": [
      "279.91796875\n",
      "264.65625\n"
     ]
    }
   ],
   "source": [
    "print(MB())\n",
    "del d[1]\n",
    "print(MB())"
   ]
  },
  {
   "cell_type": "code",
   "execution_count": 56,
   "metadata": {},
   "outputs": [
    {
     "data": {
      "text/plain": [
       "{1: <__main__.test at 0x7fa1b1482230>}"
      ]
     },
     "execution_count": 56,
     "metadata": {},
     "output_type": "execute_result"
    }
   ],
   "source": [
    "d = {}\n",
    "d[1] = a\n",
    "d"
   ]
  },
  {
   "cell_type": "code",
   "execution_count": 57,
   "metadata": {},
   "outputs": [],
   "source": [
    "del d[1]"
   ]
  },
  {
   "cell_type": "code",
   "execution_count": 58,
   "metadata": {},
   "outputs": [
    {
     "data": {
      "text/plain": [
       "{}"
      ]
     },
     "execution_count": 58,
     "metadata": {},
     "output_type": "execute_result"
    }
   ],
   "source": [
    "d"
   ]
  },
  {
   "cell_type": "code",
   "execution_count": 59,
   "metadata": {},
   "outputs": [
    {
     "data": {
      "text/plain": [
       "<__main__.test at 0x7fa1b1482230>"
      ]
     },
     "execution_count": 59,
     "metadata": {},
     "output_type": "execute_result"
    }
   ],
   "source": [
    "a"
   ]
  },
  {
   "cell_type": "code",
   "execution_count": 60,
   "metadata": {},
   "outputs": [
    {
     "data": {
      "text/plain": [
       "2291"
      ]
     },
     "execution_count": 60,
     "metadata": {},
     "output_type": "execute_result"
    }
   ],
   "source": [
    "gc.collect()"
   ]
  },
  {
   "cell_type": "code",
   "execution_count": 61,
   "metadata": {},
   "outputs": [
    {
     "data": {
      "text/plain": [
       "<__main__.test at 0x7fa1b1482230>"
      ]
     },
     "execution_count": 61,
     "metadata": {},
     "output_type": "execute_result"
    }
   ],
   "source": [
    "a"
   ]
  },
  {
   "cell_type": "code",
   "execution_count": 50,
   "metadata": {},
   "outputs": [
    {
     "data": {
      "text/plain": [
       "dict_keys(['__name__', '__doc__', '__package__', '__loader__', '__spec__', '__builtin__', '__builtins__', '_ih', '_oh', '_dh', 'In', 'Out', 'get_ipython', 'exit', 'quit', '_', '__', '___', 'sys', 'os', '__vsc_ipynb_file__', '_i', '_ii', '_iii', '_i1', '_i2', 'np', 'a', '_2', '_i3', 'yroot', 'yleaf', 'time', 'psutil', 'logging', 'pickle', 'nb', 'Iterable', 'inspect', 'traceback', 'importlib', 'params', 'ncpu', 'DebugDecorator', 'threading', 'DisplayCPU', 'DotDict', 'memory_tracker', 'timer', 'plot', 'make_logname', 'RotatingFileHandler', 'custom_debugger', 'dprint_', 'mode2repo', 'load_nout', 'load_nstep', 'out2step', 'step2out', 'ioutistep', 'printgal', 'MB', 'GB', 'pklsave', 'pklload', 'distance3d', 'cut_sphere', 'howmany', 'printtime', 'rms', 'nbnorm', 'nbsum', 'set_num_threads', 'large_isin', 'large_isind', 'atleast_numba', 'atleast_numba_para', 'atleast_isin', 'FortranFile', 'read_galaxymaker', 'skipread_i', 'skipread_f', '_i4', '_4', '_i5', '_5', '_i6', 'data', '_i7', '_i8', '_8', '_i9', '_9', '_i10', '_10', '_i11', '_i12', '_12', '_i13', '_13', '_i14', '_i15', 'gc', '_i16', '_16', '_i17', '_17', '_i18', 'b', 'c', '_i19', '_19', '_i20', '_i21', '_i22', '_i23', '_23', '_i24', '_i25', '_25', '_i26', '_26', '_i27', '_27', '_i28', '_28', '_i29', '_i30', '_30', '_i31', '_i32', '_32', '_i33', '_i34', 'test', '_i35', '_i36', 'd', 'e', '_i37', '_i38', '_i39', '_i40', '_40', '_i41', '_41', '_i42', '_42', '_i43', '_43', '_i44', '_44', '_i45', '_45', '_i46', '_46', '_i47', '_i48', '_48', '_i49', '_i50'])"
      ]
     },
     "execution_count": 50,
     "metadata": {},
     "output_type": "execute_result"
    }
   ],
   "source": [
    "locals().keys()"
   ]
  },
  {
   "cell_type": "code",
   "execution_count": 48,
   "metadata": {},
   "outputs": [
    {
     "data": {
      "text/plain": [
       "dict_keys(['__name__', '__doc__', '__package__', '__loader__', '__spec__', '__builtin__', '__builtins__', '_ih', '_oh', '_dh', 'In', 'Out', 'get_ipython', 'exit', 'quit', '_', '__', '___', 'sys', 'os', '__vsc_ipynb_file__', '_i', '_ii', '_iii', '_i1', '_i2', 'np', 'a', '_2', '_i3', 'yroot', 'yleaf', 'time', 'psutil', 'logging', 'pickle', 'nb', 'Iterable', 'inspect', 'traceback', 'importlib', 'params', 'ncpu', 'DebugDecorator', 'threading', 'DisplayCPU', 'DotDict', 'memory_tracker', 'timer', 'plot', 'make_logname', 'RotatingFileHandler', 'custom_debugger', 'dprint_', 'mode2repo', 'load_nout', 'load_nstep', 'out2step', 'step2out', 'ioutistep', 'printgal', 'MB', 'GB', 'pklsave', 'pklload', 'distance3d', 'cut_sphere', 'howmany', 'printtime', 'rms', 'nbnorm', 'nbsum', 'set_num_threads', 'large_isin', 'large_isind', 'atleast_numba', 'atleast_numba_para', 'atleast_isin', 'FortranFile', 'read_galaxymaker', 'skipread_i', 'skipread_f', '_i4', '_4', '_i5', '_5', '_i6', 'data', '_i7', '_i8', '_8', '_i9', '_9', '_i10', '_10', '_i11', '_i12', '_12', '_i13', '_13', '_i14', '_i15', 'gc', '_i16', '_16', '_i17', '_17', '_i18', 'b', 'c', '_i19', '_19', '_i20', '_i21', '_i22', '_i23', '_23', '_i24', '_i25', '_25', '_i26', '_26', '_i27', '_27', '_i28', '_28', '_i29', '_i30', '_30', '_i31', '_i32', '_32', '_i33', '_i34', 'test', '_i35', '_i36', 'd', 'e', '_i37', '_i38', '_i39', '_i40', '_40', '_i41', '_41', '_i42', '_42', '_i43', '_43', '_i44', '_44', '_i45', '_45', '_i46', '_46', '_i47', '_i48'])"
      ]
     },
     "execution_count": 48,
     "metadata": {},
     "output_type": "execute_result"
    }
   ],
   "source": [
    "globals().keys()"
   ]
  },
  {
   "cell_type": "code",
   "execution_count": 46,
   "metadata": {},
   "outputs": [
    {
     "data": {
      "text/plain": [
       "[]"
      ]
     },
     "execution_count": 46,
     "metadata": {},
     "output_type": "execute_result"
    }
   ],
   "source": [
    "gc.garbage"
   ]
  },
  {
   "cell_type": "code",
   "execution_count": 45,
   "metadata": {},
   "outputs": [
    {
     "data": {
      "text/plain": [
       "__main__.test"
      ]
     },
     "execution_count": 45,
     "metadata": {},
     "output_type": "execute_result"
    }
   ],
   "source": [
    "gc.get_referents(e)[0]"
   ]
  },
  {
   "cell_type": "code",
   "execution_count": 30,
   "metadata": {},
   "outputs": [
    {
     "data": {
      "text/plain": [
       "0"
      ]
     },
     "execution_count": 30,
     "metadata": {},
     "output_type": "execute_result"
    }
   ],
   "source": [
    "gc.get_debug()"
   ]
  },
  {
   "cell_type": "code",
   "execution_count": 11,
   "metadata": {},
   "outputs": [],
   "source": [
    "data = pklload(\"/storage3/Clusters/24954/YoungTree/ytree_00157_temp.pickle\")"
   ]
  },
  {
   "cell_type": "code",
   "execution_count": 3,
   "metadata": {},
   "outputs": [],
   "source": [
    "isind = large_isind"
   ]
  },
  {
   "cell_type": "code",
   "execution_count": 4,
   "metadata": {},
   "outputs": [
    {
     "data": {
      "text/plain": [
       "CPUDispatcher(<function large_isind at 0x7fd436cb4ca0>)"
      ]
     },
     "execution_count": 4,
     "metadata": {},
     "output_type": "execute_result"
    }
   ],
   "source": [
    "isind"
   ]
  },
  {
   "cell_type": "code",
   "execution_count": 7,
   "metadata": {},
   "outputs": [
    {
     "data": {
      "text/plain": [
       "80"
      ]
     },
     "execution_count": 7,
     "metadata": {},
     "output_type": "execute_result"
    }
   ],
   "source": [
    "from numba.core.config import NUMBA_NUM_THREADS\n",
    "NUMBA_NUM_THREADS"
   ]
  },
  {
   "cell_type": "code",
   "execution_count": 2,
   "metadata": {},
   "outputs": [
    {
     "data": {
      "text/plain": [
       "array([1., 1., 1.])"
      ]
     },
     "execution_count": 2,
     "metadata": {},
     "output_type": "execute_result"
    }
   ],
   "source": [
    "import numpy as np\n",
    "a = np.array([1])\n",
    "np.percentile(a, q=[16,50,84])"
   ]
  },
  {
   "cell_type": "code",
   "execution_count": null,
   "metadata": {},
   "outputs": [],
   "source": []
  },
  {
   "cell_type": "code",
   "execution_count": 73,
   "metadata": {},
   "outputs": [],
   "source": [
    "def a1(a,b):\n",
    "    return np.sum(a*b)\n",
    "\n",
    "def a2(a,b):\n",
    "    return np.convolve( a,b[::-1], mode='valid' )[0]\n",
    "\n",
    "import numba as nb\n",
    "@nb.njit(fastmath=True)\n",
    "def a3(a:np.ndarray,b:np.ndarray)->float:\n",
    "    n:int = len(a)\n",
    "    s:float = 0.\n",
    "    for i in nb.prange(n):\n",
    "        s += a[i]*b[i]\n",
    "    return s\n",
    "\n",
    "@nb.jit(parallel=True)\n",
    "def a4(a,b):\n",
    "    n = len(a)\n",
    "    result = np.full(n, 0., dtype=np.float64)\n",
    "    for i in nb.prange(n):\n",
    "        result[i] = a[i]*b[i]\n",
    "    return np.sum(result)"
   ]
  },
  {
   "cell_type": "code",
   "execution_count": 35,
   "metadata": {},
   "outputs": [],
   "source": [
    "a = np.random.rand(100000)\n",
    "b = np.random.rand(100000)"
   ]
  },
  {
   "cell_type": "code",
   "execution_count": 72,
   "metadata": {},
   "outputs": [
    {
     "data": {
      "text/plain": [
       "(24919.238693341762, 24919.23869334176, 24919.238693341747)"
      ]
     },
     "execution_count": 72,
     "metadata": {},
     "output_type": "execute_result"
    }
   ],
   "source": [
    "a1(a,b), a2(a,b), a3(a,b)"
   ]
  },
  {
   "cell_type": "code",
   "execution_count": 49,
   "metadata": {},
   "outputs": [
    {
     "name": "stdout",
     "output_type": "stream",
     "text": [
      "119 µs ± 435 ns per loop (mean ± std. dev. of 3 runs, 10,000 loops each)\n"
     ]
    }
   ],
   "source": [
    "%timeit -n 10000 -r 3 a1(a,b)"
   ]
  },
  {
   "cell_type": "code",
   "execution_count": 47,
   "metadata": {},
   "outputs": [
    {
     "name": "stdout",
     "output_type": "stream",
     "text": [
      "17.9 µs ± 196 ns per loop (mean ± std. dev. of 3 runs, 10,000 loops each)\n"
     ]
    }
   ],
   "source": [
    "%timeit -n 10000 -r 3 a2(a,b)"
   ]
  },
  {
   "cell_type": "code",
   "execution_count": 76,
   "metadata": {},
   "outputs": [
    {
     "name": "stdout",
     "output_type": "stream",
     "text": [
      "53.9 µs ± 130 ns per loop (mean ± std. dev. of 3 runs, 10,000 loops each)\n"
     ]
    }
   ],
   "source": [
    "%timeit -n 10000 -r 3 a3(a,b)"
   ]
  },
  {
   "cell_type": "code",
   "execution_count": 10,
   "metadata": {},
   "outputs": [
    {
     "data": {
      "text/plain": [
       "18"
      ]
     },
     "execution_count": 10,
     "metadata": {},
     "output_type": "execute_result"
    }
   ],
   "source": [
    "np.convolve( a,b[::-1], mode='valid' )[0]"
   ]
  },
  {
   "cell_type": "code",
   "execution_count": null,
   "metadata": {},
   "outputs": [],
   "source": []
  },
  {
   "cell_type": "code",
   "execution_count": 9,
   "metadata": {},
   "outputs": [],
   "source": [
    "import psutil\n",
    "import random\n",
    "import threading\n",
    "import time\n",
    "\n",
    "class DisplayCPU(threading.Thread):\n",
    "    def __enter__(self):\n",
    "        print(\"enter\")\n",
    "        self.start()\n",
    "        self.ref = time.time()\n",
    "        print(\"enter end\")\n",
    "\n",
    "    def __exit__(self, exc_type, exc_val, exc_tb):\n",
    "        print(\"exit\")\n",
    "        self.stop()\n",
    "        print(\"exit end\")\n",
    "\n",
    "    def run(self):\n",
    "        print(\"run\")\n",
    "        self.go = False\n",
    "        self.running = True\n",
    "\n",
    "        currentProcess = psutil.Process()\n",
    "\n",
    "        while self.running and (time.time()-self.ref < 10):\n",
    "            print(currentProcess.cpu_percent(interval=1))\n",
    "        print(\"run end\")\n",
    "\n",
    "    def stop(self):\n",
    "        print(\"stop\")\n",
    "        self.ref = -1\n",
    "        self.running = False\n",
    "        print(\"stop end\")\n",
    "\n",
    "# ----\n",
    "\n",
    "def i_hate_this():\n",
    "    print(\"hate\")\n",
    "    tab = []\n",
    "    for i in range(1000000):\n",
    "        tab.append(random.randint(1, 10000))\n",
    "    tab.sort()\n",
    "    print(\"hate end\")\n",
    "    return tab"
   ]
  },
  {
   "cell_type": "code",
   "execution_count": 11,
   "metadata": {},
   "outputs": [
    {
     "data": {
      "text/plain": [
       "'i_hate_this'"
      ]
     },
     "execution_count": 11,
     "metadata": {},
     "output_type": "execute_result"
    }
   ],
   "source": [
    "i_hate_this.__name__"
   ]
  },
  {
   "cell_type": "code",
   "execution_count": null,
   "metadata": {},
   "outputs": [],
   "source": []
  },
  {
   "cell_type": "code",
   "execution_count": 16,
   "metadata": {},
   "outputs": [],
   "source": [
    "import numpy as np\n",
    "isind = lambda a,b: np.where(np.isin(a,b))[0]"
   ]
  },
  {
   "cell_type": "code",
   "execution_count": 18,
   "metadata": {},
   "outputs": [
    {
     "data": {
      "text/plain": [
       "array([False,  True,  True,  True, False, False, False, False, False,\n",
       "       False])"
      ]
     },
     "execution_count": 18,
     "metadata": {},
     "output_type": "execute_result"
    }
   ],
   "source": [
    "isin = np.isin\n",
    "isin(np.arange(10), np.array([1,2,3]))"
   ]
  },
  {
   "cell_type": "code",
   "execution_count": 17,
   "metadata": {},
   "outputs": [
    {
     "data": {
      "text/plain": [
       "array([1, 2, 3])"
      ]
     },
     "execution_count": 17,
     "metadata": {},
     "output_type": "execute_result"
    }
   ],
   "source": [
    "isind(np.arange(10), np.array([1,2,3]))"
   ]
  },
  {
   "cell_type": "code",
   "execution_count": 26,
   "metadata": {},
   "outputs": [
    {
     "name": "stdout",
     "output_type": "stream",
     "text": [
      "97.9\n",
      "84.0\n",
      "78.5\n",
      "84.0\n",
      "112.2\n",
      "115.3\n",
      "86.9\n",
      "98.0\n",
      "98.2\n",
      "83.5\n",
      "98.2\n",
      "118.9\n"
     ]
    }
   ],
   "source": [
    "display_cpu = DisplayCPU()\n",
    "\n",
    "display_cpu.start()\n",
    "try:\n",
    "    result = i_hate_this()\n",
    "finally: # stop thread even when I press Ctrl+C\n",
    "    display_cpu.stop()"
   ]
  },
  {
   "cell_type": "code",
   "execution_count": 10,
   "metadata": {},
   "outputs": [
    {
     "name": "stdout",
     "output_type": "stream",
     "text": [
      "enter\n",
      "run\n",
      "enter end\n",
      "hate\n",
      "hate end\n",
      "exit\n",
      "stop\n",
      "stop end\n",
      "exit end\n"
     ]
    },
    {
     "name": "stdout",
     "output_type": "stream",
     "text": [
      "70.1\n",
      "run end\n"
     ]
    }
   ],
   "source": [
    "display_cpu = DisplayCPU()\n",
    "display_cpu.ref = time.time()\n",
    "with display_cpu:\n",
    "    i_hate_this()"
   ]
  },
  {
   "cell_type": "code",
   "execution_count": 4,
   "metadata": {},
   "outputs": [],
   "source": [
    "from rur import uri\n",
    "from rur.sci import photometry"
   ]
  },
  {
   "cell_type": "code",
   "execution_count": 5,
   "metadata": {},
   "outputs": [],
   "source": [
    "backups = pklload(\"/storage3/Clusters/07206/YoungTree/ytree_00117.pickle\")"
   ]
  },
  {
   "cell_type": "code",
   "execution_count": 7,
   "metadata": {},
   "outputs": [
    {
     "data": {
      "text/plain": [
       "(392,)"
      ]
     },
     "execution_count": 7,
     "metadata": {},
     "output_type": "execute_result"
    }
   ],
   "source": [
    "backups.shape"
   ]
  },
  {
   "cell_type": "code",
   "execution_count": 9,
   "metadata": {},
   "outputs": [
    {
     "data": {
      "text/plain": [
       "((135956, 1, 117, 0.65000004, 6.341491e+10, 0.22753587, 0.38074753, 0.5141741, 197.13655, 215.45401, 54.09123, 0.000851, 0.00040146, 6.051862e+10, array([[116,   1],\n",
       "        [115,   1],\n",
       "        [114,   1],\n",
       "        [113,   3],\n",
       "        [113, 366],\n",
       "        [112,   2],\n",
       "        [112, 360]]), array([[3.77491877, 0.95820116, 0.94262481, 0.8853901 , 0.98870271],\n",
       "        [3.67953292, 0.94513646, 0.91963217, 0.8340207 , 0.98074359],\n",
       "        [3.52424307, 0.94355837, 0.89675284, 0.71883164, 0.96510023],\n",
       "        [3.18660495, 0.8226217 , 0.87902973, 0.49747592, 0.9874776 ],\n",
       "        [1.73318215, 0.10988932, 0.96580602, 0.23057275, 0.42691407],\n",
       "        [2.83970921, 0.73514534, 0.87760714, 0.28467841, 0.94227833],\n",
       "        [1.89516662, 0.18489239, 0.93958878, 0.22794081, 0.54274464]]), array([[118,   1],\n",
       "        [119,   1],\n",
       "        [120,   1],\n",
       "        [120, 323],\n",
       "        [121,   1],\n",
       "        [121, 320],\n",
       "        [122,   1],\n",
       "        [122, 318]]), array([[3.80362497, 0.94360824, 0.95787307, 0.91105617, 0.9910875 ],\n",
       "        [3.67118926, 0.9274115 , 0.9401827 , 0.81423305, 0.989362  ],\n",
       "        [3.59220744, 0.90393924, 0.92512415, 0.77933261, 0.98381144],\n",
       "        [1.32648935, 0.01346537, 0.99592659, 0.15484225, 0.16225514],\n",
       "        [2.73818459, 0.89178243, 0.87894514, 0.03572723, 0.93172979],\n",
       "        [1.37603289, 0.02290959, 0.99095578, 0.1546373 , 0.20753022],\n",
       "        [2.55173598, 0.86607156, 0.78162395, 0.02043481, 0.88360566],\n",
       "        [1.4426274 , 0.0490723 , 0.98951032, 0.11327869, 0.29076609]])),\n",
       " dtype([('nparts', '<i4'), ('id', '<i4'), ('timestep', '<i4'), ('aexp', '<f4'), ('m', '<f4'), ('x', '<f4'), ('y', '<f4'), ('z', '<f4'), ('vx', '<f4'), ('vy', '<f4'), ('vz', '<f4'), ('r', '<f4'), ('rvir', '<f4'), ('mvir', '<f4'), ('prog', 'O'), ('prog_score', 'O'), ('desc', 'O'), ('desc_score', 'O')]))"
      ]
     },
     "execution_count": 9,
     "metadata": {},
     "output_type": "execute_result"
    }
   ],
   "source": [
    "backups[0], backups[0].dtype"
   ]
  },
  {
   "cell_type": "code",
   "execution_count": 10,
   "metadata": {},
   "outputs": [],
   "source": [
    "backup = pklload(\"/storage3/Clusters/07206/YoungTree/ytree_00010_temp.pickle\")"
   ]
  },
  {
   "cell_type": "code",
   "execution_count": 27,
   "metadata": {},
   "outputs": [
    {
     "data": {
      "text/plain": [
       "112"
      ]
     },
     "execution_count": 27,
     "metadata": {},
     "output_type": "execute_result"
    }
   ],
   "source": [
    "import sys\n",
    "sys.getsizeof(backup[0][1]['saved']['matchrate'][15][1][1])"
   ]
  },
  {
   "cell_type": "code",
   "execution_count": 29,
   "metadata": {},
   "outputs": [
    {
     "data": {
      "text/plain": [
       "{1: (0.8966794973880926,\n",
       "  array([ True,  True,  True,  True, False,  True,  True,  True, False,\n",
       "          True,  True,  True,  True,  True,  True,  True, False,  True,\n",
       "          True,  True,  True,  True,  True,  True,  True,  True,  True,\n",
       "         False, False,  True,  True,  True,  True, False,  True, False,\n",
       "          True,  True,  True,  True,  True,  True, False,  True,  True,\n",
       "          True,  True,  True,  True,  True,  True,  True, False, False,\n",
       "          True,  True,  True,  True,  True,  True, False, False, False,\n",
       "          True,  True,  True,  True,  True,  True, False,  True,  True,\n",
       "         False, False, False,  True,  True, False,  True,  True,  True,\n",
       "          True,  True,  True,  True,  True,  True,  True,  True,  True,\n",
       "          True, False,  True,  True, False,  True, False,  True,  True,\n",
       "          True,  True,  True,  True, False, False,  True,  True, False,\n",
       "          True,  True,  True, False,  True,  True, False,  True,  True,\n",
       "          True,  True,  True,  True,  True,  True,  True, False,  True,\n",
       "          True, False,  True,  True, False,  True,  True,  True,  True,\n",
       "          True,  True,  True,  True,  True,  True,  True,  True,  True,\n",
       "          True,  True,  True, False,  True,  True,  True, False,  True,\n",
       "          True,  True,  True,  True,  True,  True, False,  True,  True,\n",
       "          True,  True,  True,  True,  True,  True, False,  True,  True,\n",
       "          True,  True,  True,  True,  True,  True,  True,  True,  True,\n",
       "          True,  True,  True,  True,  True,  True,  True,  True,  True,\n",
       "          True, False,  True,  True,  True,  True,  True,  True,  True,\n",
       "          True,  True, False,  True,  True,  True,  True,  True,  True,\n",
       "          True,  True,  True,  True,  True,  True,  True,  True, False,\n",
       "          True,  True,  True,  True,  True,  True,  True,  True,  True,\n",
       "          True,  True,  True,  True,  True,  True,  True,  True,  True,\n",
       "         False,  True, False,  True,  True,  True,  True,  True, False,\n",
       "          True, False,  True,  True,  True,  True,  True,  True,  True,\n",
       "          True,  True,  True,  True,  True,  True,  True,  True,  True,\n",
       "         False,  True,  True,  True,  True,  True,  True,  True,  True,\n",
       "          True,  True,  True, False, False,  True,  True, False,  True,\n",
       "          True, False, False,  True,  True,  True,  True,  True,  True,\n",
       "         False, False, False, False,  True,  True,  True, False,  True,\n",
       "         False,  True, False,  True,  True,  True,  True,  True,  True,\n",
       "          True,  True,  True,  True,  True,  True,  True, False,  True,\n",
       "          True,  True,  True,  True,  True,  True,  True,  True,  True,\n",
       "          True,  True,  True, False,  True,  True,  True,  True,  True,\n",
       "          True,  True,  True,  True,  True,  True, False,  True,  True,\n",
       "          True,  True,  True,  True,  True,  True,  True,  True,  True,\n",
       "          True,  True,  True,  True,  True, False,  True,  True, False,\n",
       "          True,  True,  True,  True,  True,  True,  True,  True,  True,\n",
       "          True,  True,  True,  True,  True,  True,  True,  True,  True,\n",
       "          True,  True,  True,  True,  True,  True,  True,  True,  True,\n",
       "          True,  True,  True, False,  True,  True,  True,  True,  True,\n",
       "          True,  True,  True,  True,  True,  True,  True,  True, False,\n",
       "          True,  True, False,  True,  True,  True,  True,  True,  True,\n",
       "          True,  True,  True,  True,  True,  True,  True,  True,  True,\n",
       "         False,  True,  True,  True,  True, False,  True,  True, False,\n",
       "         False,  True,  True])),\n",
       " 22: (0.0026577772791264932,\n",
       "  array([False, False, False, False, False, False, False, False, False,\n",
       "         False, False, False, False, False, False, False, False, False,\n",
       "         False, False, False, False, False, False, False, False, False,\n",
       "         False, False, False, False, False, False, False, False, False,\n",
       "         False, False, False, False, False, False, False, False, False,\n",
       "         False, False, False, False, False, False, False, False, False,\n",
       "         False, False, False, False, False, False, False, False, False,\n",
       "         False, False, False, False, False, False, False, False, False,\n",
       "         False, False, False, False, False, False, False, False, False,\n",
       "         False, False, False, False, False, False, False, False, False,\n",
       "         False, False, False, False, False, False, False, False, False,\n",
       "         False, False, False, False, False, False, False, False, False,\n",
       "         False, False, False, False, False, False, False, False, False,\n",
       "         False, False, False, False, False, False, False, False, False,\n",
       "         False, False, False, False, False, False, False, False, False,\n",
       "         False, False, False, False, False, False, False, False, False,\n",
       "         False, False, False, False, False, False, False, False, False,\n",
       "         False, False, False, False, False, False, False, False, False,\n",
       "         False, False, False, False, False, False, False, False, False,\n",
       "         False, False, False, False, False, False, False, False, False,\n",
       "         False, False, False, False, False, False, False, False, False,\n",
       "         False, False, False, False, False, False, False, False, False,\n",
       "         False, False, False, False, False, False, False, False, False,\n",
       "         False, False, False, False, False, False, False, False, False,\n",
       "         False, False, False, False, False, False, False, False, False,\n",
       "         False, False, False, False, False, False, False, False, False,\n",
       "          True, False, False, False, False, False, False, False, False,\n",
       "         False, False, False, False, False, False, False, False, False,\n",
       "         False, False, False, False, False, False, False, False, False,\n",
       "         False, False, False, False, False, False, False, False, False,\n",
       "         False, False, False, False, False, False, False, False, False,\n",
       "         False, False, False, False, False, False, False, False, False,\n",
       "         False, False, False, False, False, False, False, False, False,\n",
       "         False, False, False, False, False, False, False, False, False,\n",
       "         False, False, False, False, False, False, False, False, False,\n",
       "         False, False, False, False, False, False, False, False, False,\n",
       "         False, False, False, False, False, False, False, False, False,\n",
       "         False, False, False, False, False, False, False, False, False,\n",
       "         False, False, False, False, False, False, False, False, False,\n",
       "         False, False, False, False, False, False, False, False, False,\n",
       "         False, False, False, False, False, False, False, False, False,\n",
       "         False, False, False, False, False, False, False, False, False,\n",
       "         False, False, False, False, False, False, False, False, False,\n",
       "         False, False, False, False, False, False, False, False, False,\n",
       "         False, False, False, False, False, False, False, False, False,\n",
       "         False, False, False, False, False, False, False, False, False,\n",
       "         False, False, False, False, False, False, False, False, False,\n",
       "         False, False, False, False, False, False, False, False, False,\n",
       "         False, False, False]))}"
      ]
     },
     "execution_count": 29,
     "metadata": {},
     "output_type": "execute_result"
    }
   ],
   "source": [
    "backup[0][1]['saved']['matchrate'][15]"
   ]
  },
  {
   "cell_type": "code",
   "execution_count": null,
   "metadata": {},
   "outputs": [],
   "source": []
  }
 ],
 "metadata": {
  "kernelspec": {
   "display_name": "Python 3.10.4 ('jeonpy': conda)",
   "language": "python",
   "name": "python3"
  },
  "language_info": {
   "codemirror_mode": {
    "name": "ipython",
    "version": 3
   },
   "file_extension": ".py",
   "mimetype": "text/x-python",
   "name": "python",
   "nbconvert_exporter": "python",
   "pygments_lexer": "ipython3",
   "version": "3.10.4"
  },
  "orig_nbformat": 4,
  "vscode": {
   "interpreter": {
    "hash": "928fe3b0bf83d1446d29d898280f37d3e1faf7b4f2cfa3ce909854a28f42a301"
   }
  }
 },
 "nbformat": 4,
 "nbformat_minor": 2
}
