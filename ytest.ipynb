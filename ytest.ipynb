{
 "cells": [
  {
   "cell_type": "code",
   "execution_count": 1,
   "metadata": {},
   "outputs": [],
   "source": [
    "import numpy as np\n",
    "# from YoungTree3 import yroot\n",
    "# from YoungTree3 import yleaf\n",
    "from YoungTree3.ytool import *\n",
    "# from ytool import *\n",
    "from numpy.lib.recfunctions import append_fields\n",
    "from tqdm import tqdm\n",
    "import matplotlib.pyplot as plt\n",
    "from rur import uri, uhmi"
   ]
  },
  {
   "cell_type": "code",
   "execution_count": 2,
   "metadata": {},
   "outputs": [],
   "source": [
    "params = importlib.import_module(\"params_default\")\n",
    "#########################################################\n",
    "#   From params.py, record to dictionary\n",
    "#########################################################\n",
    "p = {}\n",
    "for key in params.__dict__.keys():\n",
    "    if not \"_\" in key:\n",
    "        p[key] = params.__dict__[key]\n",
    "    p[\"flush_GB\"] = params.flush_GB\n",
    "p = DotDict(p)"
   ]
  },
  {
   "cell_type": "code",
   "execution_count": 3,
   "metadata": {},
   "outputs": [],
   "source": [
    "ptree = pklload(\"/storage3/Clusters/07206/ptree/ptree_stable.pkl\")"
   ]
  },
  {
   "cell_type": "code",
   "execution_count": 4,
   "metadata": {},
   "outputs": [],
   "source": [
    "mode = 'y07206'\n",
    "repo, rurmode, dp = mode2repo(mode)\n",
    "# For message printing\n",
    "galstr = \"Halo\"\n",
    "galstrs = \"Halos\"\n",
    "if p.galaxy:\n",
    "    galstr = \"Galaxy\"\n",
    "    galstrs = \"Galaxies\"\n",
    "\n",
    "# Read output list\n",
    "nout = load_nout(mode=mode, galaxy=p.galaxy)\n",
    "nstep = load_nstep(mode=mode, galaxy=p.galaxy, nout=nout)\n",
    "\n",
    "\n",
    "\n",
    "def gal2id(gal):\n",
    "    # return f\"{gal['timestep']:05d}{gal['id']:05d}\"\n",
    "    return gal['timestep']*100000 + gal['id']\n",
    "def id2gal(iid):\n",
    "    return iid//100000, iid%100000\n",
    "\n",
    "yrepo = f\"{repo}/YoungTree\""
   ]
  },
  {
   "cell_type": "code",
   "execution_count": 58,
   "metadata": {},
   "outputs": [],
   "source": [
    "def drawnear(iout, galid, radii=2, centers=None, proj=[0,1], **kwargs):\n",
    "    global repo; global rurmode\n",
    "\n",
    "    uri.timer.verbose=0\n",
    "    snap = uri.RamsesSnapshot(repo, iout, mode=rurmode)\n",
    "    gals = uhmi.HaloMaker.load(snap, galaxy=True)\n",
    "    gal = gals[galid-1]\n",
    "\n",
    "    names = ['x', 'y', 'z']\n",
    "    xname = names[proj[0]]\n",
    "    yname = names[proj[1]]\n",
    "    print(xname, yname)\n",
    "    names.remove(xname); names.remove(yname)\n",
    "    zname = names.pop()\n",
    "    # iout = gal['timestep']\n",
    "    if centers is None:\n",
    "        cx,cy,cz = gal[xname], gal[yname], gal[zname]\n",
    "        cr = gal['r']*radii\n",
    "    else:\n",
    "        gal = np.empty( (1,), dtype=[(\"id\", \"<i4\"), (\"x\", \"<f8\"), (\"y\", \"<f8\"), (\"z\", \"<f8\"), (\"r\", \"<f8\"),])[0]\n",
    "        cx,cy,cz,cr = centers\n",
    "        gal[xname]=cx; gal[yname]=cy; gal[zname]=cz; gal['r']=cr/radii\n",
    "        gal['id'] = 0\n",
    "    print(cx,cy,cz,cr)\n",
    "    \n",
    "    \n",
    "    gals = gals[\n",
    "            (gals[xname] >= cx-cr) & (gals[xname] <= cx+cr) &\n",
    "            (gals[yname] >= cy-cr) & (gals[yname] <= cy+cr) &\n",
    "            (gals[zname] >= cz-cr) & (gals[zname] <= cz+cr)\n",
    "            ]\n",
    "\n",
    "    snap.set_box_halo(gal, radius=radii, radius_name='r')\n",
    "    snap.get_part(pname='star', target_fields=['id', 'x', 'y', 'z', 'm'])\n",
    "    print(len(snap.part), \" stars\")\n",
    "    xe = np.linspace(cx-cr, cx+cr, 240)\n",
    "    ye = np.linspace(cy-cr, cy+cr, 240)\n",
    "    hist, _, _ = np.histogram2d(snap.part[xname], snap.part[yname], bins=[xe, ye], weights=snap.part['m'])\n",
    "\n",
    "    fig, ax = plt.subplots()\n",
    "    ax.set_aspect(1)\n",
    "    ax.set_facecolor(\"k\")\n",
    "    fig.set_facecolor(\"k\")\n",
    "    dpi = kwargs.pop(\"dpi\", None)\n",
    "    if dpi is None: dpi = 150\n",
    "    fig.set_dpi(dpi)\n",
    "\n",
    "    ax.imshow(np.log10(hist.T), origin='lower', extent=[xe[0], xe[-1], ye[0], ye[-1]], cmap=plt.cm.pink)\n",
    "    for igal in gals:\n",
    "        if igal['id'] == gal['id']:\n",
    "            color='cyan'\n",
    "            lw = 1.5\n",
    "        else:\n",
    "            color='lime'\n",
    "            lw = 0.5\n",
    "        cir = plt.Circle((igal[xname], igal[yname]), igal['r'], facecolor='none', edgecolor=color, lw=lw)\n",
    "        ax.add_artist(cir)\n",
    "        ax.text(igal[xname], igal[yname], f\"{igal['id']}\", color=color, ha='center', va='center')\n",
    "    \n",
    "    ax.text(0.05, 0.95, f\"{iout}\", color='white', fontsize='large', transform=ax.transAxes)    \n",
    "\n",
    "    snap.clear()\n",
    "    del snap\n",
    "    plt.show()\n",
    "    return cx,cy,cz,cr\n",
    "    "
   ]
  },
  {
   "cell_type": "markdown",
   "metadata": {},
   "source": [
    "---"
   ]
  },
  {
   "cell_type": "code",
   "execution_count": 6,
   "metadata": {},
   "outputs": [],
   "source": [
    "# This file is made from `ycompile.py`\n",
    "ytree = pklload(f\"{yrepo}/ytree_last_connect.pickle\")"
   ]
  },
  {
   "cell_type": "code",
   "execution_count": 7,
   "metadata": {},
   "outputs": [],
   "source": [
    "def show(gid, gout, ytree=None, prog=True, desc=True, detail=False):\n",
    "    gal = ytree[ytree['timestep'] == gout][gid-1]\n",
    "    print(f\"{gal['id']} at {gal['timestep']} (logM={np.log10(gal['m']):.2f}) [{gal['last']}]\")\n",
    "    try:\n",
    "        print(f\"<--merged [{gal['merged']}]\")\n",
    "    except:\n",
    "        pass\n",
    "    if prog:\n",
    "        if gal['prog'] is not None:\n",
    "            print(f\"Progs:\\n{gal['prog']}\\n{gal['prog_score'][:,0]}\")\n",
    "            if detail:\n",
    "                print(f\"match1: {gal['prog_score'][:,1]}\")\n",
    "                print(f\"match2: {gal['prog_score'][:,2]}\")\n",
    "                print(f\"veloff: {gal['prog_score'][:,3]}\")\n",
    "                print(f\"masoff: {gal['prog_score'][:,4]}\")\n",
    "    if desc:\n",
    "        if gal['desc'] is not None:\n",
    "            print(f\"Descs:\\n{gal['desc']}\\n{gal['desc_score'][:,0]}\")\n",
    "            if detail:\n",
    "                print(f\"match1: {gal['desc_score'][:,1]}\")\n",
    "                print(f\"match2: {gal['desc_score'][:,2]}\")\n",
    "                print(f\"veloff: {gal['desc_score'][:,3]}\")\n",
    "                print(f\"masoff: {gal['desc_score'][:,4]}\")\n",
    "    print()"
   ]
  },
  {
   "cell_type": "code",
   "execution_count": 8,
   "metadata": {},
   "outputs": [
    {
     "data": {
      "text/plain": [
       "((2011,),\n",
       " array([ 1400018,  1500022,  1600068, ..., 18700246, 18700247, 18700248]))"
      ]
     },
     "execution_count": 8,
     "metadata": {},
     "output_type": "execute_result"
    }
   ],
   "source": [
    "lasts = ytree['last']\n",
    "lasts, counts = np.unique( lasts[lasts>0], return_counts=True )\n",
    "lasts.shape, lasts"
   ]
  },
  {
   "cell_type": "code",
   "execution_count": 42,
   "metadata": {},
   "outputs": [
    {
     "data": {
      "text/plain": [
       "<matplotlib.colorbar.Colorbar at 0x7feacea4c280>"
      ]
     },
     "execution_count": 42,
     "metadata": {},
     "output_type": "execute_result"
    },
    {
     "data": {
      "image/png": "[encoded data removed]",
      "text/plain": [
       "<Figure size 1200x800 with 2 Axes>"
      ]
     },
     "metadata": {
      "needs_background": "light"
     },
     "output_type": "display_data"
    }
   ],
   "source": [
    "last = lasts[np.random.choice(len(lasts))]\n",
    "iout = last//100000\n",
    "iid = last%100000\n",
    "ptemp = ptree[(ptree['timestep'] == iout)&(ptree['hmid'] == iid)][0]\n",
    "pinst = ptree[ptree['last'] == ptemp['last']]\n",
    "inst = ytree[ytree['last'] == int(iout*100000 + iid)]\n",
    "\n",
    "plt.gcf().set_dpi(200)\n",
    "plt.scatter(inst['timestep'], inst['x'], s=4, color='red')\n",
    "plt.scatter(pinst['timestep'], pinst['x'], facecolors='none', edgecolors='k', s=40, marker='D', lw=0.3)\n",
    "plt.xscale(\"log\")\n",
    "plt.colorbar()\n",
    "# plt.scatter(inst[inst['merged']==-1]['id'], inst[inst['merged']==-1]['timestep'])"
   ]
  },
  {
   "cell_type": "markdown",
   "metadata": {},
   "source": [
    "--- "
   ]
  },
  {
   "cell_type": "code",
   "execution_count": 132,
   "metadata": {},
   "outputs": [],
   "source": [
    "def _prog(gal, iout, all=False):\n",
    "    progs = gal['prog'][gal['prog'][:,0] == iout]\n",
    "    if len(progs)==0:\n",
    "        return None\n",
    "    if all:\n",
    "        return progs\n",
    "    prog_scores = gal['prog_score'][gal['prog'][:,0] == iout]\n",
    "    argmax = np.argmax(prog_scores)\n",
    "    return progs[argmax]\n",
    "\n",
    "def _desc(gal, iout, all=False):\n",
    "    descs = gal['desc'][gal['desc'][:,0] == iout]\n",
    "    if len(descs)==0:\n",
    "        return None\n",
    "    if all:\n",
    "        return descs\n",
    "    desc_scores = gal['desc_score'][gal['desc'][:,0] == iout]\n",
    "    argmax = np.argmax(desc_scores)\n",
    "    return descs[argmax]\n",
    "\n",
    "def _gal(iout, gid, ytree):\n",
    "    return ytree[ytree['timestep']==iout][gid-1]\n",
    "\n",
    "def _last(iout, gid, ytree):\n",
    "    return _gal(iout, gid, ytree)['last']\n",
    "\n",
    "def connected(agal, bgal, ytree):\n",
    "    if len(agal)==2:\n",
    "        agal = _gal(agal[0], agal[1], ytree)\n",
    "    aout, aid = agal['timestep'], agal['id']\n",
    "    if len(bgal)==2:\n",
    "        bgal = _gal(bgal[0], bgal[1], ytree)\n",
    "    bout, bid = bgal['timestep'], bgal['id']\n",
    "    \n",
    "    result = False\n",
    "    if aout>bout:\n",
    "        aprog = _prog(agal, bout)\n",
    "        bdesc = _desc(bgal, aout)\n",
    "        if (aprog is None) or (bdesc is None):\n",
    "            return False\n",
    "        result = (aprog[1]==bid)&(bdesc[1]==aid)\n",
    "    elif aout<bout:\n",
    "        adesc = _desc(agal, bout)\n",
    "        bprog = _prog(bgal, aout)\n",
    "        if (bprog is None) or (adesc is None):\n",
    "            return False\n",
    "        result = (adesc[1]==bid)&(bprog[1]==aid)\n",
    "    return result\n",
    "\n",
    "def occupied(iout, last, ytree):\n",
    "    inst = ytree[ytree['last'] == last]['timestep']\n",
    "    return iout in inst"
   ]
  },
  {
   "cell_type": "code",
   "execution_count": 71,
   "metadata": {},
   "outputs": [
    {
     "data": {
      "text/plain": [
       "dtype([('nparts', '<i4'), ('id', '<i4'), ('timestep', '<i4'), ('aexp', '<f4'), ('m', '<f4'), ('x', '<f4'), ('y', '<f4'), ('z', '<f4'), ('vx', '<f4'), ('vy', '<f4'), ('vz', '<f4'), ('r', '<f4'), ('rvir', '<f4'), ('mvir', '<f4'), ('prog', 'O'), ('prog_score', 'O'), ('desc', 'O'), ('desc_score', 'O'), ('last', '<i8'), ('merged', '<i8')])"
      ]
     },
     "execution_count": 71,
     "metadata": {},
     "output_type": "execute_result"
    }
   ],
   "source": [
    "import copy\n",
    "ytree_new = append_fields(ytree, \"merged\", np.zeros(len(ytree), dtype=int),usemask=False)\n",
    "ytree_new.dtype"
   ]
  },
  {
   "cell_type": "code",
   "execution_count": 184,
   "metadata": {},
   "outputs": [
    {
     "name": "stdout",
     "output_type": "stream",
     "text": [
      "[0 0 0 0 0 0 0 0 0 0 0 0 0 0 0 0 0 0 0 0 0 0 0 0 0 0 0 0 0 0 0 0 0 0 0 0 0\n",
      " 0 0 0 0 0 0 0 0 0 0 0 0 0 0 0 0 0 0 0 0 0 0 0 0 0 0 0 0 0 0 0 0 0 0 0 0 0\n",
      " 0 0 0 0 0 0 0 0 0 0 0 0 0 0 0 0 0 0 0 0 0 0 0 0 0 0 0 0 0 0 0 0 0 0 0 0 0\n",
      " 0 0 0 0 0 0 0 0 0]\n",
      "120\n",
      "[18700172 18700188 18500013 18700007 17900091 17800206 16800099 16100087\n",
      " 15700119 15900082 16000228 15500043 15800055 15300172 15100106 15700252\n",
      " 15000147 18200239 15600088 13900156 13700183 14200162 12800186 12900310\n",
      " 12700053 12500149 18700002 12800280 11700053 11700338 11500256 11100183\n",
      " 11000269 11600191 11100149 12700152 11200081  9900383  9900402 14100050\n",
      "  9700314  9100251  9100385  8500502 10100330  8600305  8100094  7800410\n",
      "  8300455  7700493  7600206  9500115  7600410  7000244  7500248 18700165\n",
      "  7700512  8900523  6900508 10300395 18700197  5700663  6100631  5900656\n",
      "  6200698  6000701  5200693  5000322  5200562  6800586  5300082 15600292\n",
      "  8000297  4600294  4500681 11500384  4400163  5900381  4400183  4600762\n",
      "  7100667 18700108  4100715  4200738  3800692  3300341  3500313  5300726\n",
      " 10100147  9000502 18700056  3100412  5000730  5400008  5400710  3600481\n",
      "  2900497  3000521  5800052  3600653  9300040  2900073  2600365 18700019\n",
      "  6800645  2600386  5900686  2600389  3500297  5700712  2200172  2300300\n",
      "  5400703  2100220  3800652  2000023  7800001  2900033  1400031  4800717]\n"
     ]
    }
   ],
   "source": [
    "ytree_new = append_fields(ytree, \"merged\", np.zeros(len(ytree), dtype=int),usemask=False)\n",
    "ytree_new.dtype\n",
    "\n",
    "zeroind = np.where(ytree_new['last']==0)[0]\n",
    "for ind in zeroind:\n",
    "    iout = ytree_new[ind]['timestep']; iid = ytree_new[ind]['id']\n",
    "    descs = ytree_new[ind]['desc']\n",
    "    if descs is not None:\n",
    "        ############################################\n",
    "        # No descendants\n",
    "        ############################################\n",
    "        if all(descs[:, 1] == 0):\n",
    "            # All descs are 0\n",
    "            ytree_new[ind]['last'] = gal2id(ytree_new[ind])\n",
    "\n",
    "        ############################################\n",
    "        # Yes descendants\n",
    "        ############################################\n",
    "        else:\n",
    "            arg = descs[:,1] != 0\n",
    "            descs = descs[arg] # nonzero descs\n",
    "            dlasts = np.array([_last(d[0], d[1], ytree_new) for d in descs])\n",
    "            ###################\n",
    "            # Only one branch\n",
    "            ###################\n",
    "            if len(np.unique(dlasts)) == 1:\n",
    "                dlast = dlasts[0]\n",
    "                if dlast>0:\n",
    "                    # Normal branch\n",
    "                    if occupied(iout, dlast, ytree_new):\n",
    "                        ytree_new[ind]['merged'] = gal2id(ytree_new[ind])#int( descs[0][0]*100000 + descs[0][1] )\n",
    "                    ytree_new[ind]['last'] = dlast\n",
    "\n",
    "                else:\n",
    "                    # All branchs = -1\n",
    "                    leng = descs.shape[0]\n",
    "                    temp = [gal2id(ytree_new[ind])] + [int( descs[i][0]*100000 + descs[i][1] ) for i in range(leng)]\n",
    "                    for i in range(leng):\n",
    "                        if connected(ytree_new[ind], descs[i], ytree_new):\n",
    "                            temp[0] = int( descs[i][0]*100000 + descs[i][1] )\n",
    "                        for j in range(leng-i-1):\n",
    "                            if connected(descs[i], descs[i+j+1], ytree_new):\n",
    "                                temp[i+1] = int( descs[i+j+1][0]*100000 + descs[i+j+1][1] )\n",
    "                    ytree_new[ind]['last'] = temp[0]\n",
    "                    for i in range(leng):\n",
    "                        desc = descs[i]\n",
    "                        where = np.where((ytree_new['timestep']==desc[0])&(ytree_new['id']==desc[1]))[0][0]\n",
    "                        ytree_new[where]['last'] = temp[i+1]\n",
    "                    \n",
    "            ###################\n",
    "            # More than 1 branch\n",
    "            ###################\n",
    "            else:\n",
    "                leng = descs.shape[0]\n",
    "                temp = [int( descs[i][0]*100000 + descs[i][1] ) if _gal(descs[i][0],descs[i][1],ytree_new)['last']<=0 else _gal(descs[i][0],descs[i][1],ytree_new)['last'] for i in range(leng)]\n",
    "                temp = [gal2id(ytree_new[ind])] + temp\n",
    "                for i in range(leng):\n",
    "                    if connected(ytree_new[ind], descs[i], ytree_new):\n",
    "                        temp[0] = temp[i+1]\n",
    "                    for j in range(leng-i-1):\n",
    "                        if connected(descs[i], descs[i+j+1], ytree_new):\n",
    "                            temp[i+1] = temp[i+j+1]\n",
    "                \n",
    "                descs = np.vstack((np.array([[iout, iid]]), descs[dlasts<=0]))\n",
    "                temp2 = np.array(temp[1:])\n",
    "                temp = [temp[0]] + (temp2[dlasts<=0]).tolist()\n",
    "                unique, ucount = np.unique(temp, return_counts=True)\n",
    "                for uni, uco in zip(unique, ucount):\n",
    "                    ddescs = descs[temp == uni]\n",
    "                    final = ddescs[np.argmax(ddescs[:,0])]\n",
    "                    sole = True\n",
    "                    for i in range(uco):\n",
    "                        sole = sole or ~occupied(ddescs[i][0], uni, ytree_new)\n",
    "                    for i in range(uco):\n",
    "                        desc = ddescs[i]\n",
    "                        where = np.where((ytree_new['timestep']==desc[0])&(ytree_new['id']==desc[1]))[0][0]\n",
    "                        ytree_new[where]['last'] = uni\n",
    "                        if sole: ytree_new[where]['merged'] = int( final[0]*100000 + final[1] )\n",
    "    else:\n",
    "        # Last Snapshot\n",
    "        ytree_new[ind]['last'] = gal2id(ytree_new[ind])\n",
    "            "
   ]
  },
  {
   "cell_type": "markdown",
   "metadata": {},
   "source": [
    "-------"
   ]
  },
  {
   "cell_type": "code",
   "execution_count": 185,
   "metadata": {},
   "outputs": [],
   "source": [
    "ytree = pklload(f\"{yrepo}/ytree_remove_zero.pickle\")"
   ]
  },
  {
   "cell_type": "code",
   "execution_count": 363,
   "metadata": {},
   "outputs": [
    {
     "name": "stdout",
     "output_type": "stream",
     "text": [
      "(3078,)\n"
     ]
    }
   ],
   "source": [
    "gals = copy.deepcopy(ytree)\n",
    "\n",
    "indices = np.where(gals['last'] == -1)[0]\n",
    "orphans = gals[indices]\n",
    "print(orphans.shape)\n",
    "\n",
    "counts = 0\n",
    "\n",
    "iouts = np.unique(orphans['timestep'])[::-1]\n",
    "for iout in iouts:\n",
    "    orps = orphans[orphans['timestep'] == iout]\n",
    "    inds = indices[orphans['timestep'] == iout]\n",
    "    for orp, ind in zip(orps, inds):\n",
    "        if orp['last']<0:\n",
    "            gals[ind]['last'] = gal2id(gals[ind])\n",
    "        descs = orp['desc']\n",
    "        progs = orp['prog']\n",
    "        if (descs is not None) and (not all(descs[:,1] <= 0)):\n",
    "            desc_scores = orp['desc_score'][:,0]\n",
    "            desc_scores = desc_scores[descs[:,1] > 0]\n",
    "            descs = descs[descs[:,1] > 0]\n",
    "            dgals = [_gal(desc[0], desc[1], gals) for desc in descs]\n",
    "            cands = np.zeros(len(dgals), dtype=int)\n",
    "            for i, dgal in enumerate(dgals):\n",
    "                dout = dgal['timestep']; did = dgal['id']; dlast = dgal['last']; dmerge = dgal['merged']\n",
    "                if connected(orp, dgal, gals):\n",
    "                    cands[i] = dlast\n",
    "            if not np.array_equal(np.zeros(len(dgals), dtype=int), cands):\n",
    "                ucands = np.unique(cands[cands != 0])\n",
    "                leng = len(ucands)\n",
    "                if leng == 1:\n",
    "                    decision = ucands[0]\n",
    "                else:\n",
    "                    scores = np.zeros(leng)\n",
    "                    for i in range(leng):\n",
    "                        cand = ucands[i]\n",
    "                        assert cand > 0\n",
    "                        inst = gals[gals['last'] == cand]\n",
    "                        maxout = np.max(descs[:,0]); minout = np.min(progs[:,0])\n",
    "                        inst = inst[ (inst['timestep'] <= maxout) & (inst['timestep'] >= minout) ]\n",
    "                        for ins in inst:\n",
    "                            check = (descs[:,0]==ins['timestep']) & (descs[:,1]==ins['id'])\n",
    "                            if True in check:\n",
    "                                try:\n",
    "                                    scores[i] += desc_scores[check][0]\n",
    "                                except:\n",
    "                                    print(check)\n",
    "                                    print(desc_scores)\n",
    "                                    print(desc_scores[check])\n",
    "                                    print(desc_scores[check][0])\n",
    "                    decision = ucands[np.argmax(scores)]\n",
    "                where = np.where(cands==decision)[0]\n",
    "                if occupied(iout, decision, gals):\n",
    "                    most = descs[np.argmax(desc_scores)]\n",
    "                    merged = _gal(most[0], most[1], gals)['merged']\n",
    "                    gals[ind]['merged'] = gal2id(gals[ind]) if merged==0 else merged\n",
    "                    \n",
    "                gals[ind]['last'] = decision\n",
    "                            "
   ]
  },
  {
   "cell_type": "markdown",
   "metadata": {},
   "source": [
    "-------------"
   ]
  },
  {
   "cell_type": "code",
   "execution_count": 404,
   "metadata": {},
   "outputs": [],
   "source": [
    "ytree = pklload(f\"{yrepo}/ytree_remove_negative.pickle\")"
   ]
  },
  {
   "cell_type": "code",
   "execution_count": 452,
   "metadata": {},
   "outputs": [
    {
     "name": "stdout",
     "output_type": "stream",
     "text": [
      "[2200125] [22 21 20 19]\n",
      "[1.34564242]\n",
      "True\n",
      "2200050 [22]\n",
      "[]\n",
      "[]\n",
      "True\n",
      "[2900033] [29 28 27 26 25 24 23 22 21 20 19 18 17 16 15]\n",
      "[2.75936253]\n",
      "True\n",
      "2900486 [29]\n",
      "[3000511 3800652 5600008]\n",
      "[1.01369158 0.68604375 6.41030305]\n",
      "False\n",
      "[2400294 2700436 2900239] [29 28 27 26 25 24 23 22 21 20]\n",
      "[1.55524801 2.99248828 4.34190195]\n",
      "True\n",
      "2900515 [29]\n",
      "[18700234]\n",
      "[7.13722664]\n",
      "False\n",
      "[2900504 3000505 3300563 8500525] [33 32 31 30 29 28 27 26 25 24 23 22 21 20 19]\n",
      "[0.91958133 2.52694172 5.04362928 3.21164553]\n",
      "True\n",
      "3300564 [33]\n",
      "[3500607 8500525]\n",
      "[1.13880848 6.65494634]\n",
      "True\n",
      "[ 3300561  3600604 18700004] [36 35 34 33 32 31 30 29 28 27 26 25 24 23 22]\n",
      "[1.18445341 6.60879018 4.41809044]\n",
      "True\n",
      "3600603 [36]\n",
      "[18700004]\n",
      "[7.77747142]\n",
      "True\n"
     ]
    },
    {
     "ename": "ValueError",
     "evalue": "",
     "output_type": "error",
     "traceback": [
      "\u001b[0;31m---------------------------------------------------------------------------\u001b[0m",
      "\u001b[0;31mValueError\u001b[0m                                Traceback (most recent call last)",
      "\u001b[1;32m/home/jeon/YoungTree3/ytest.ipynb Cell 20\u001b[0m in \u001b[0;36m<cell line: 6>\u001b[0;34m()\u001b[0m\n\u001b[1;32m     <a href='vscode-notebook-cell://ssh-remote%2B7b22686f73744e616d65223a2247433130227d/home/jeon/YoungTree3/ytest.ipynb#Y233sdnNjb2RlLXJlbW90ZQ%3D%3D?line=56'>57</a>\u001b[0m         printmax\u001b[39m+\u001b[39m\u001b[39m=\u001b[39m\u001b[39m1\u001b[39m\n\u001b[1;32m     <a href='vscode-notebook-cell://ssh-remote%2B7b22686f73744e616d65223a2247433130227d/home/jeon/YoungTree3/ytest.ipynb#Y233sdnNjb2RlLXJlbW90ZQ%3D%3D?line=57'>58</a>\u001b[0m     \u001b[39melse\u001b[39;00m:\n\u001b[0;32m---> <a href='vscode-notebook-cell://ssh-remote%2B7b22686f73744e616d65223a2247433130227d/home/jeon/YoungTree3/ytest.ipynb#Y233sdnNjb2RlLXJlbW90ZQ%3D%3D?line=58'>59</a>\u001b[0m         \u001b[39mraise\u001b[39;00m \u001b[39mValueError\u001b[39;00m(\u001b[39m\"\u001b[39m\u001b[39m\"\u001b[39m)\n\u001b[1;32m     <a href='vscode-notebook-cell://ssh-remote%2B7b22686f73744e616d65223a2247433130227d/home/jeon/YoungTree3/ytest.ipynb#Y233sdnNjb2RlLXJlbW90ZQ%3D%3D?line=59'>60</a>\u001b[0m \u001b[39melse\u001b[39;00m:\n\u001b[1;32m     <a href='vscode-notebook-cell://ssh-remote%2B7b22686f73744e616d65223a2247433130227d/home/jeon/YoungTree3/ytest.ipynb#Y233sdnNjb2RlLXJlbW90ZQ%3D%3D?line=60'>61</a>\u001b[0m     \u001b[39m# Fragment? Escape?\u001b[39;00m\n\u001b[1;32m     <a href='vscode-notebook-cell://ssh-remote%2B7b22686f73744e616d65223a2247433130227d/home/jeon/YoungTree3/ytest.ipynb#Y233sdnNjb2RlLXJlbW90ZQ%3D%3D?line=61'>62</a>\u001b[0m     \u001b[39mpass\u001b[39;00m\n",
      "\u001b[0;31mValueError\u001b[0m: "
     ]
    }
   ],
   "source": [
    "gals = copy.deepcopy(ytree)\n",
    "lasts, counts = np.unique(gals['last'], return_counts=True)\n",
    "printmax = 0\n",
    "\n",
    "# last = lasts[0]\n",
    "for last in lasts:\n",
    "    inst = gals[gals['last'] == last]\n",
    "    merges = np.unique(inst['merged'])\n",
    "    if len(merges)>1:\n",
    "        for merge in merges:\n",
    "            iinst = inst[inst['merged'] == merge]\n",
    "            pass\n",
    "    elif (len(merges)==1)&(merges[0]==0):\n",
    "        iinst = inst\n",
    "        first = iinst[-1]\n",
    "        pscores = []; plasts = []\n",
    "        if first['prog'] is not None:\n",
    "            progs = first['prog'][first['prog'][:,1] > 0]\n",
    "            if len(progs)>0:\n",
    "                prog_scores = first['prog_score'][first['prog'][:,1] > 0][:,0]\n",
    "                plasts = np.array([_last(prog[0], prog[1], gals) for prog in progs])\n",
    "                hist = np.bincount(plasts, weights=prog_scores)\n",
    "                pscores = hist[hist>0]\n",
    "                plasts = np.where(hist>0)[0]\n",
    "                argmax = np.argmax(pscores)\n",
    "                plast = plasts[argmax]\n",
    "                pscore = pscores[argmax]\n",
    "        \n",
    "        final = iinst[0]\n",
    "        dscores = []; dlasts = []\n",
    "        if final['desc'] is not None:\n",
    "            descs = final['desc'][final['desc'][:,1] > 0]\n",
    "            if len(descs)>0:\n",
    "                desc_scores = final['desc_score'][final['desc'][:,1] > 0][:,0]\n",
    "                dlasts = np.array([_last(desc[0], desc[1], gals) for desc in descs])\n",
    "                hist = np.bincount(dlasts, weights=desc_scores)\n",
    "                dscores = hist[hist>0]\n",
    "                dlasts = np.where(hist>0)[0]\n",
    "                argmax = np.argmax(dscores)\n",
    "                dlast = dlasts[argmax]\n",
    "                dscore = dscores[argmax]\n",
    "\n",
    "        if len(pscores)>0:\n",
    "            pgals = gals[gals['last']==plast]\n",
    "            if np.max(pgals['timestep']) < np.min(iinst['timestep']):\n",
    "                # Connect\n",
    "                gals[gals['last'] == plast]['last'] = last\n",
    "            elif np.max(pgals['timestep']) == np.min(iinst['timestep']):\n",
    "                print(plasts, pgals['timestep'])\n",
    "                print(pscores)\n",
    "                print(occupied(first['timestep'], plast, gals))\n",
    "                print(last, iinst['timestep'])\n",
    "                print(dlasts)\n",
    "                print(dscores)\n",
    "                print(occupied(final['timestep'], dlast, gals))\n",
    "                if printmax<4:\n",
    "                    printmax+=1\n",
    "                else:\n",
    "                    raise ValueError(\"\")\n",
    "            else:\n",
    "                # Fragment? Escape?\n",
    "                pass\n",
    "        \n",
    "        if len(pscores)>0:\n",
    "            if not occupied(first['timestep'], plast, gals):\n",
    "                temp = gals[gals['last'] == plast]['merged']\n",
    "                temp[temp==0] = int(first['timestep']*100000 + first['id'])\n",
    "                gals[gals['last'] == plast]['merged'] = temp\n",
    "                gals[gals['last'] == plast]['last'] = last\n",
    "                \n",
    "        # if (len(pscores)>1) & (len(dscores)>1):\n",
    "        #     print(plasts)\n",
    "        #     print(pscores)\n",
    "        #     print(occupied(first['timestep'], plast, gals))\n",
    "        #     print(last)\n",
    "        #     print(dlasts)\n",
    "        #     print(dscores)\n",
    "        #     print(occupied(final['timestep'], dlast, gals))\n",
    "        #     raise ValueError(\"\")"
   ]
  },
  {
   "cell_type": "code",
   "execution_count": 418,
   "metadata": {},
   "outputs": [
    {
     "name": "stdout",
     "output_type": "stream",
     "text": [
      "(3254,)\n"
     ]
    },
    {
     "data": {
      "image/png": "[encoded data removed]",
      "text/plain": [
       "<Figure size 432x288 with 1 Axes>"
      ]
     },
     "metadata": {
      "needs_background": "light"
     },
     "output_type": "display_data"
    }
   ],
   "source": []
  },
  {
   "cell_type": "code",
   "execution_count": null,
   "metadata": {},
   "outputs": [],
   "source": [
    "def findmerge(last, ytree):\n",
    "    \n"
   ]
  },
  {
   "cell_type": "code",
   "execution_count": 414,
   "metadata": {},
   "outputs": [
    {
     "data": {
      "text/plain": [
       "18400237"
      ]
     },
     "execution_count": 414,
     "metadata": {},
     "output_type": "execute_result"
    }
   ],
   "source": [
    "_last(183, 230, ytree)"
   ]
  },
  {
   "cell_type": "code",
   "execution_count": 408,
   "metadata": {},
   "outputs": [
    {
     "name": "stdout",
     "output_type": "stream",
     "text": [
      "4\n"
     ]
    },
    {
     "ename": "ZeroDivisionError",
     "evalue": "division by zero",
     "output_type": "error",
     "traceback": [
      "\u001b[0;31m---------------------------------------------------------------------------\u001b[0m",
      "\u001b[0;31mZeroDivisionError\u001b[0m                         Traceback (most recent call last)",
      "\u001b[1;32m/home/jeon/YoungTree3/ytest.ipynb Cell 21\u001b[0m in \u001b[0;36m<cell line: 10>\u001b[0;34m()\u001b[0m\n\u001b[1;32m     <a href='vscode-notebook-cell://ssh-remote%2B7b22686f73744e616d65223a2247433130227d/home/jeon/YoungTree3/ytest.ipynb#Y131sdnNjb2RlLXJlbW90ZQ%3D%3D?line=9'>10</a>\u001b[0m \u001b[39mfor\u001b[39;00m i, imerge \u001b[39min\u001b[39;00m \u001b[39menumerate\u001b[39m( np\u001b[39m.\u001b[39mroll(a,\u001b[39mlen\u001b[39m(a)\u001b[39m-\u001b[39m\u001b[39m1\u001b[39m) ):\n\u001b[1;32m     <a href='vscode-notebook-cell://ssh-remote%2B7b22686f73744e616d65223a2247433130227d/home/jeon/YoungTree3/ytest.ipynb#Y131sdnNjb2RlLXJlbW90ZQ%3D%3D?line=10'>11</a>\u001b[0m     ind \u001b[39m=\u001b[39m inst[\u001b[39m'\u001b[39m\u001b[39mmerged\u001b[39m\u001b[39m'\u001b[39m] \u001b[39m==\u001b[39m imerge\n\u001b[0;32m---> <a href='vscode-notebook-cell://ssh-remote%2B7b22686f73744e616d65223a2247433130227d/home/jeon/YoungTree3/ytest.ipynb#Y131sdnNjb2RlLXJlbW90ZQ%3D%3D?line=11'>12</a>\u001b[0m     colors[ind] \u001b[39m=\u001b[39m i\u001b[39m/\u001b[39;49mleng\n\u001b[1;32m     <a href='vscode-notebook-cell://ssh-remote%2B7b22686f73744e616d65223a2247433130227d/home/jeon/YoungTree3/ytest.ipynb#Y131sdnNjb2RlLXJlbW90ZQ%3D%3D?line=12'>13</a>\u001b[0m plt\u001b[39m.\u001b[39mgcf()\u001b[39m.\u001b[39mset_dpi(\u001b[39m200\u001b[39m)\n\u001b[1;32m     <a href='vscode-notebook-cell://ssh-remote%2B7b22686f73744e616d65223a2247433130227d/home/jeon/YoungTree3/ytest.ipynb#Y131sdnNjb2RlLXJlbW90ZQ%3D%3D?line=13'>14</a>\u001b[0m plt\u001b[39m.\u001b[39mscatter(inst[\u001b[39m'\u001b[39m\u001b[39mx\u001b[39m\u001b[39m'\u001b[39m], inst[\u001b[39m'\u001b[39m\u001b[39mtimestep\u001b[39m\u001b[39m'\u001b[39m], c\u001b[39m=\u001b[39mcolors, cmap\u001b[39m=\u001b[39mplt\u001b[39m.\u001b[39mcm\u001b[39m.\u001b[39mjet, s\u001b[39m=\u001b[39m\u001b[39m4\u001b[39m)\n",
      "\u001b[0;31mZeroDivisionError\u001b[0m: division by zero"
     ]
    }
   ],
   "source": [
    "iout = 187\n",
    "iid = 13\n",
    "inst = ytree[ytree['last'] == int(iout*100000 + iid)]\n",
    "print(len(inst))\n",
    "ptemp = ptree[(ptree['timestep'] == iout)&(ptree['hmid'] == iid)][0]\n",
    "pinst = ptree[ptree['last'] == ptemp['last']]\n",
    "leng = len(np.unique(inst['merged']))-1\n",
    "colors = np.zeros(len(inst))\n",
    "a = np.unique(inst['merged'])\n",
    "for i, imerge in enumerate( np.roll(a,len(a)-1) ):\n",
    "    ind = inst['merged'] == imerge\n",
    "    colors[ind] = i/leng\n",
    "plt.gcf().set_dpi(200)\n",
    "plt.scatter(inst['x'], inst['timestep'], c=colors, cmap=plt.cm.jet, s=4)\n",
    "plt.scatter(pinst['x'], pinst['timestep'], facecolors='none', edgecolors='k', s=40, marker='D', lw=0.3)\n",
    "plt.colorbar()\n",
    "# plt.scatter(inst[inst['merged']==-1]['id'], inst[inst['merged']==-1]['timestep'])"
   ]
  },
  {
   "cell_type": "code",
   "execution_count": null,
   "metadata": {},
   "outputs": [
    {
     "name": "stdout",
     "output_type": "stream",
     "text": [
      "4 at 133 (logM=9.50) [18700006]\n",
      "<--merged [-1]\n",
      "Progs:\n",
      "[[132   6]\n",
      " [132 320]\n",
      " [131   6]\n",
      " [131 319]\n",
      " [130  13]\n",
      " [130 328]\n",
      " [129   5]\n",
      " [129 317]\n",
      " [129 315]\n",
      " [128   5]\n",
      " [128 317]]\n",
      "[3.66945657 1.12809984 3.45142454 0.85863079 3.24434497 1.27898761\n",
      " 3.02558402 1.49956899 0.80098054 3.03342174 1.23335289]\n",
      "Descs:\n",
      "[[134  10]\n",
      " [134  20]\n",
      " [135   7]\n",
      " [135 303]\n",
      " [135  58]\n",
      " [136   3]\n",
      " [136 299]\n",
      " [136  60]\n",
      " [137   2]\n",
      " [137  42]\n",
      " [137  43]\n",
      " [138   4]\n",
      " [138  14]]\n",
      "[3.29048007 1.17903482 3.1985495  0.85350829 0.53397064 3.222345\n",
      " 0.90906053 0.49176073 2.94178432 1.03563906 0.53233685 3.29161332\n",
      " 0.5294862 ]\n",
      "\n"
     ]
    }
   ],
   "source": [
    "show(4, 133, ytree=ytree_new)"
   ]
  },
  {
   "cell_type": "code",
   "execution_count": null,
   "metadata": {},
   "outputs": [
    {
     "data": {
      "text/plain": [
       "(249, 314, 134, 0.735, 1.183391e+08, 0.23918638, 0.4125223, 0.53213274, 91.16332, -216.0543, 67.32734, 0.00014689, 2.848795e-05, 23203748., array([[133, 307],\n",
       "       [133,   4],\n",
       "       [132, 320],\n",
       "       [132,   6],\n",
       "       [131, 319],\n",
       "       [131,   6],\n",
       "       [130, 329],\n",
       "       [130, 328],\n",
       "       [130,  13],\n",
       "       [129, 315],\n",
       "       [129,   5]]), array([[1.48384897e+00, 9.79539191e-01, 7.21031253e-02, 1.16724634e-02,\n",
       "        4.20534194e-01],\n",
       "       [3.42004057e-01, 2.04608086e-02, 2.94914211e-04, 8.02014136e-02,\n",
       "        2.41046920e-01],\n",
       "       [1.44869629e+00, 9.68388796e-01, 7.48820433e-02, 1.35724160e-02,\n",
       "        3.91853034e-01],\n",
       "       [2.79778269e-01, 2.61007585e-02, 3.77000165e-04, 2.00520379e-02,\n",
       "        2.33248472e-01],\n",
       "       [1.64932494e+00, 9.68801681e-01, 1.39555025e-01, 9.03057429e-02,\n",
       "        4.50662494e-01],\n",
       "       [2.85305150e-01, 2.75519373e-02, 3.31871678e-04, 2.96567643e-02,\n",
       "        2.27764577e-01],\n",
       "       [2.27836244e+00, 7.50730317e-01, 5.80145137e-01, 4.13908289e-02,\n",
       "        9.06096160e-01],\n",
       "       [7.00177319e-01, 2.10517416e-01, 2.16671303e-02, 9.17926334e-02,\n",
       "        3.76200140e-01],\n",
       "       [2.72080561e-01, 3.11536974e-02, 3.92104825e-04, 2.35127272e-02,\n",
       "        2.17022032e-01],\n",
       "       [1.57618479e+00, 8.72058365e-01, 1.50022578e-01, 7.44046233e-02,\n",
       "        4.79699224e-01],\n",
       "       [3.58999909e-01, 1.18040724e-01, 1.39435608e-03, 3.06927041e-02,\n",
       "        2.08872125e-01]]), array([[135,  58],\n",
       "       [136,  60],\n",
       "       [137,  43],\n",
       "       [138,  14],\n",
       "       [139,  26]]), array([[2.5947346 , 1.        , 0.61756316, 0.28198488, 0.69518656],\n",
       "       [2.72869939, 0.98160498, 0.66329184, 0.34625374, 0.73754883],\n",
       "       [2.39667163, 0.95856713, 0.61869253, 0.12524824, 0.69416374],\n",
       "       [2.36054686, 0.93385368, 0.61951379, 0.09713143, 0.71004796],\n",
       "       [3.04749817, 0.88325756, 0.75507833, 0.51626874, 0.89289355]]), 18700006, 16300002)"
      ]
     },
     "execution_count": 119,
     "metadata": {},
     "output_type": "execute_result"
    }
   ],
   "source": [
    "ytree_new[ytree_new['merged']==16300002][-1]"
   ]
  },
  {
   "cell_type": "code",
   "execution_count": null,
   "metadata": {},
   "outputs": [
    {
     "data": {
      "text/plain": [
       "(178, 178)"
      ]
     },
     "execution_count": 63,
     "metadata": {},
     "output_type": "execute_result"
    }
   ],
   "source": [
    "len(inst[inst['merged']==-1]), len(np.unique(inst[inst['merged']==-1]['timestep']))"
   ]
  },
  {
   "cell_type": "code",
   "execution_count": null,
   "metadata": {},
   "outputs": [
    {
     "data": {
      "text/plain": [
       "1377"
      ]
     },
     "execution_count": 66,
     "metadata": {},
     "output_type": "execute_result"
    },
    {
     "data": {
      "image/png": "[encoded data removed]",
      "text/plain": [
       "<Figure size 432x288 with 1 Axes>"
      ]
     },
     "metadata": {
      "needs_background": "light"
     },
     "output_type": "display_data"
    }
   ],
   "source": [
    "plt.hist(ytree_new['last']//100000, bins=np.linspace(0,187,188)-0.5)\n",
    "len(np.unique(ytree_new['last']))"
   ]
  },
  {
   "cell_type": "code",
   "execution_count": null,
   "metadata": {},
   "outputs": [
    {
     "data": {
      "text/plain": [
       "array([18700012, 18700059, 18700013, ..., 18700002, 18700001, 18700002])"
      ]
     },
     "execution_count": 53,
     "metadata": {},
     "output_type": "execute_result"
    }
   ],
   "source": [
    "inst = ytree_new[ytree_new['merged']>0]\n",
    "inst['last']"
   ]
  },
  {
   "cell_type": "code",
   "execution_count": null,
   "metadata": {},
   "outputs": [],
   "source": [
    "inst = ytree_new[ytree_new['last'] == 18700002]"
   ]
  },
  {
   "cell_type": "code",
   "execution_count": null,
   "metadata": {},
   "outputs": [
    {
     "data": {
      "text/plain": [
       "<matplotlib.collections.PathCollection at 0x7f28d5fb7010>"
      ]
     },
     "execution_count": 55,
     "metadata": {},
     "output_type": "execute_result"
    },
    {
     "data": {
      "image/png": "[encoded data removed]",
      "text/plain": [
       "<Figure size 432x288 with 1 Axes>"
      ]
     },
     "metadata": {
      "needs_background": "light"
     },
     "output_type": "display_data"
    }
   ],
   "source": [
    "a = inst[inst['merged']<0]\n",
    "b = inst[inst['merged']>0]\n",
    "plt.scatter(b['merged']%100000, b['timestep'])\n",
    "plt.scatter(a['merged'], a['timestep'])"
   ]
  },
  {
   "cell_type": "code",
   "execution_count": null,
   "metadata": {},
   "outputs": [
    {
     "data": {
      "text/plain": [
       "(array([      -1,        0,  2000197, ..., 18700246, 18700247, 18700248]),\n",
       " array([1785, 1474,    6, ...,  113,  158,  146]))"
      ]
     },
     "execution_count": 56,
     "metadata": {},
     "output_type": "execute_result"
    }
   ],
   "source": [
    "np.unique(ytree_new['last'], return_counts=True)"
   ]
  },
  {
   "cell_type": "code",
   "execution_count": null,
   "metadata": {},
   "outputs": [
    {
     "ename": "ValueError",
     "evalue": "stop",
     "output_type": "error",
     "traceback": [
      "\u001b[0;31m---------------------------------------------------------------------------\u001b[0m",
      "\u001b[0;31mValueError\u001b[0m                                Traceback (most recent call last)",
      "\u001b[1;32m/home/jeon/YoungTree3/ytest.ipynb Cell 19'\u001b[0m in \u001b[0;36m<cell line: 1>\u001b[0;34m()\u001b[0m\n\u001b[0;32m----> <a href='vscode-notebook-cell://ssh-remote%2B7b22686f73744e616d65223a2247433130227d/home/jeon/YoungTree3/ytest.ipynb#ch0000019vscode-remote?line=0'>1</a>\u001b[0m \u001b[39mraise\u001b[39;00m \u001b[39mValueError\u001b[39;00m(\u001b[39m\"\u001b[39m\u001b[39mstop\u001b[39m\u001b[39m\"\u001b[39m)\n",
      "\u001b[0;31mValueError\u001b[0m: stop"
     ]
    }
   ],
   "source": [
    "raise ValueError(\"stop\")"
   ]
  }
 ],
 "metadata": {
  "kernelspec": {
   "display_name": "Python 3.10.4 ('jeonpy': conda)",
   "language": "python",
   "name": "python3"
  },
  "language_info": {
   "codemirror_mode": {
    "name": "ipython",
    "version": 3
   },
   "file_extension": ".py",
   "mimetype": "text/x-python",
   "name": "python",
   "nbconvert_exporter": "python",
   "pygments_lexer": "ipython3",
   "version": "3.10.4"
  },
  "orig_nbformat": 4,
  "vscode": {
   "interpreter": {
    "hash": "928fe3b0bf83d1446d29d898280f37d3e1faf7b4f2cfa3ce909854a28f42a301"
   }
  }
 },
 "nbformat": 4,
 "nbformat_minor": 2
}
