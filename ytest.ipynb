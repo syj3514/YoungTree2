{
 "cells": [
  {
   "cell_type": "code",
   "execution_count": 1,
   "metadata": {},
   "outputs": [],
   "source": [
    "import numpy as np\n",
    "# from YoungTree3 import yroot\n",
    "# from YoungTree3 import yleaf\n",
    "from YoungTree3.ytool import *\n",
    "# from ytool import *\n",
    "from numpy.lib.recfunctions import append_fields\n",
    "from tqdm import tqdm\n",
    "import matplotlib.pyplot as plt\n",
    "from rur import uri, uhmi"
   ]
  },
  {
   "cell_type": "code",
   "execution_count": 2,
   "metadata": {},
   "outputs": [],
   "source": [
    "params = importlib.import_module(\"params\")\n",
    "#########################################################\n",
    "#   From params.py, record to dictionary\n",
    "#########################################################\n",
    "p = {}\n",
    "for key in params.__dict__.keys():\n",
    "    if not \"_\" in key:\n",
    "        p[key] = params.__dict__[key]\n",
    "    p[\"flush_GB\"] = params.flush_GB\n",
    "p = DotDict(p)"
   ]
  },
  {
   "cell_type": "code",
   "execution_count": 3,
   "metadata": {},
   "outputs": [],
   "source": [
    "mode = 'y07206'\n",
    "repo, rurmode, dp = mode2repo(mode)\n",
    "# For message printing\n",
    "galstr = \"Halo\"\n",
    "galstrs = \"Halos\"\n",
    "if p.galaxy:\n",
    "    galstr = \"Galaxy\"\n",
    "    galstrs = \"Galaxies\"\n",
    "\n",
    "# Read output list\n",
    "nout = load_nout(mode=mode, galaxy=p.galaxy)\n",
    "nstep = load_nstep(mode=mode, galaxy=p.galaxy, nout=nout)\n",
    "\n",
    "\n",
    "\n",
    "def gal2id(gal):\n",
    "    # return f\"{gal['timestep']:05d}{gal['id']:05d}\"\n",
    "    return gal['timestep']*100000 + gal['id']\n",
    "def id2gal(iid):\n",
    "    return iid//100000, iid%100000\n",
    "\n",
    "yrepo = f\"{repo}/YoungTree\""
   ]
  },
  {
   "cell_type": "code",
   "execution_count": 4,
   "metadata": {},
   "outputs": [],
   "source": [
    "def drawnear(iout, galid, radii=2, prog=[0,1]):\n",
    "    global repo; global rurmode\n",
    "\n",
    "    uri.timer.verbose=0\n",
    "    snap = uri.RamsesSnapshot(repo, iout, mode=rurmode)\n",
    "    gals = uhmi.HaloMaker.load(snap, galaxy=True)\n",
    "    gal = gals[galid-1]\n",
    "\n",
    "    names = ['x', 'y', 'z']\n",
    "    xname = names[prog[0]]\n",
    "    yname = names[prog[1]]\n",
    "    print(xname, yname)\n",
    "    names.remove(xname); names.remove(yname)\n",
    "    zname = names.pop()\n",
    "    # iout = gal['timestep']\n",
    "    cx,cy,cz = gal[xname], gal[yname], gal[zname]\n",
    "    cr = gal['r']*radii\n",
    "    print(cx,cy,cz,cr)\n",
    "    \n",
    "    \n",
    "    gals = gals[\n",
    "            (gals[xname] >= cx-cr) & (gals[xname] <= cx+cr) &\n",
    "            (gals[yname] >= cy-cr) & (gals[yname] <= cy+cr) &\n",
    "            (gals[zname] >= cz-cr) & (gals[zname] <= cz+cr)\n",
    "            ]\n",
    "\n",
    "    snap.set_box_halo(gal, radius=radii, radius_name='r')\n",
    "    snap.get_part(pname='star', target_fields=['id', 'x', 'y', 'z', 'm'])\n",
    "    print(len(snap.part), \" stars\")\n",
    "    xe = np.linspace(cx-cr, cx+cr, 240)\n",
    "    ye = np.linspace(cy-cr, cy+cr, 240)\n",
    "    hist, _, _ = np.histogram2d(snap.part[xname], snap.part[yname], bins=[xe, ye], weights=snap.part['m'])\n",
    "\n",
    "    fig, ax = plt.subplots()\n",
    "    ax.set_aspect(1)\n",
    "    ax.set_facecolor(\"k\")\n",
    "    fig.set_facecolor(\"k\")\n",
    "    fig.set_dpi(150)\n",
    "\n",
    "    ax.imshow(np.log10(hist.T), origin='lower', extent=[xe[0], xe[-1], ye[0], ye[-1]], cmap=plt.cm.pink)\n",
    "    for igal in gals:\n",
    "        if igal['id'] == gal['id']:\n",
    "            color='cyan'\n",
    "            lw = 1.5\n",
    "        else:\n",
    "            color='lime'\n",
    "            lw = 0.5\n",
    "        cir = plt.Circle((igal[xname], igal[yname]), igal['r'], facecolor='none', edgecolor=color, lw=lw)\n",
    "        ax.add_artist(cir)\n",
    "        ax.text(igal[xname], igal[yname], f\"{igal['id']}\", color=color, ha='center', va='center')\n",
    "    \n",
    "    ax.text(0.05, 0.95, f\"{iout}\", color='white', fontsize='large', transform=ax.transAxes)    \n",
    "\n",
    "    snap.clear()\n",
    "    del snap\n",
    "    plt.show()\n",
    "    "
   ]
  },
  {
   "cell_type": "markdown",
   "metadata": {},
   "source": [
    "---"
   ]
  },
  {
   "cell_type": "code",
   "execution_count": 5,
   "metadata": {},
   "outputs": [],
   "source": [
    "ytree = pklload(f\"{yrepo}/ytree_last_strict.pickle\")"
   ]
  },
  {
   "cell_type": "code",
   "execution_count": 7,
   "metadata": {},
   "outputs": [
    {
     "data": {
      "text/plain": [
       "dtype([('nparts', '<i4'), ('id', '<i4'), ('timestep', '<i4'), ('aexp', '<f4'), ('m', '<f4'), ('x', '<f4'), ('y', '<f4'), ('z', '<f4'), ('vx', '<f4'), ('vy', '<f4'), ('vz', '<f4'), ('r', '<f4'), ('rvir', '<f4'), ('mvir', '<f4'), ('prog', 'O'), ('prog_score', 'O'), ('desc', 'O'), ('desc_score', 'O'), ('last', '<i8')])"
      ]
     },
     "execution_count": 7,
     "metadata": {},
     "output_type": "execute_result"
    }
   ],
   "source": [
    "ytree.dtype"
   ]
  },
  {
   "cell_type": "code",
   "execution_count": 33,
   "metadata": {},
   "outputs": [
    {
     "data": {
      "text/plain": [
       "array([ 1700098,  1800126,  1800128, ..., 18700246, 18700247, 18700248])"
      ]
     },
     "execution_count": 33,
     "metadata": {},
     "output_type": "execute_result"
    }
   ],
   "source": [
    "lasts = np.unique(ytree['last'])\n",
    "lasts = lasts[lasts>0]\n",
    "lasts"
   ]
  },
  {
   "cell_type": "code",
   "execution_count": 40,
   "metadata": {},
   "outputs": [],
   "source": [
    "def show(gal):\n",
    "    print(f\"{gal['id']} at {gal['timestep']} (logM={np.log10(gal['m']):.2f})\")\n",
    "    if gal['prog'] is not None:\n",
    "        print(f\"Progs:\\n{gal['prog']}\\n{gal['prog_score'][:,0]}\")\n",
    "    if gal['desc'] is not None:\n",
    "        print(f\"Descs:\\n{gal['desc']}\\n{gal['desc_score'][:,0]}\")\n",
    "    print()"
   ]
  },
  {
   "cell_type": "code",
   "execution_count": 41,
   "metadata": {},
   "outputs": [
    {
     "name": "stdout",
     "output_type": "stream",
     "text": [
      "98 at 17 (logM=8.49)\n",
      "Progs:\n",
      "[[16 68]\n",
      " [16  1]\n",
      " [15  1]\n",
      " [15 22]\n",
      " [14  1]\n",
      " [14 27]\n",
      " [13  1]\n",
      " [12  1]]\n",
      "[2.15328777 1.45134585 1.72140247 1.03727366 1.45886952 1.10288398\n",
      " 1.79469146 1.74121269]\n",
      "Descs:\n",
      "[[ 18   2]\n",
      " [ 19   1]\n",
      " [ 20   1]\n",
      " [ 20 192]\n",
      " [ 21   1]\n",
      " [ 22   1]]\n",
      "[1.65922449 2.14625175 1.77894669 0.82022358 1.91422903 1.47061797]\n",
      "\n",
      "1 at 10 (logM=8.32)\n",
      "Descs:\n",
      "[[11  1]\n",
      " [12  1]\n",
      " [13  1]\n",
      " [14  1]\n",
      " [15  1]]\n",
      "[2.7427768  2.80973529 3.00695583 2.48726728 2.1672169 ]\n",
      "\n"
     ]
    },
    {
     "data": {
      "text/plain": [
       "[<matplotlib.lines.Line2D at 0x7f5a93517040>]"
      ]
     },
     "execution_count": 41,
     "metadata": {},
     "output_type": "execute_result"
    },
    {
     "data": {
      "image/png": "[encoded data removed]",
      "text/plain": [
       "<Figure size 432x288 with 1 Axes>"
      ]
     },
     "metadata": {
      "needs_background": "light"
     },
     "output_type": "display_data"
    }
   ],
   "source": [
    "last = lasts[0]\n",
    "inst = ytree[ytree['last'] == last]\n",
    "show(inst[0])\n",
    "show(inst[-1])\n",
    "plt.plot(inst['timestep'], np.log10(inst['m']))"
   ]
  },
  {
   "cell_type": "code",
   "execution_count": 12,
   "metadata": {},
   "outputs": [
    {
     "data": {
      "text/plain": [
       "[<matplotlib.lines.Line2D at 0x7f5a9551cf10>]"
      ]
     },
     "execution_count": 12,
     "metadata": {},
     "output_type": "execute_result"
    },
    {
     "data": {
      "image/png": "[encoded data removed]",
      "text/plain": [
       "<Figure size 432x288 with 1 Axes>"
      ]
     },
     "metadata": {
      "needs_background": "light"
     },
     "output_type": "display_data"
    }
   ],
   "source": [
    "plt.plot(inst['timestep'], np.log10(inst['m']))"
   ]
  },
  {
   "cell_type": "code",
   "execution_count": 11,
   "metadata": {},
   "outputs": [
    {
     "name": "stdout",
     "output_type": "stream",
     "text": [
      "1 187\n",
      "1 186\n",
      "1 185\n",
      "1 184\n",
      "1 183\n",
      "1 182\n",
      "1 181\n",
      "1 180\n",
      "1 179\n",
      "1 178\n",
      "1 177\n",
      "1 176\n",
      "1 175\n",
      "3 174\n",
      "1 173\n",
      "2 172\n",
      "1 171\n",
      "1 170\n",
      "1 169\n",
      "1 168\n",
      "1 167\n",
      "1 166\n",
      "1 165\n",
      "1 164\n",
      "1 163\n",
      "1 162\n",
      "1 161\n",
      "1 160\n",
      "1 159\n",
      "1 158\n",
      "2 157\n",
      "1 156\n",
      "1 155\n",
      "1 154\n",
      "1 153\n",
      "1 152\n",
      "1 151\n",
      "2 150\n",
      "1 149\n",
      "2 148\n",
      "1 147\n",
      "3 146\n",
      "1 145\n",
      "1 144\n",
      "1 143\n",
      "3 142\n",
      "1 141\n",
      "1 140\n",
      "2 139\n",
      "1 138\n",
      "1 137\n",
      "1 136\n",
      "1 135\n",
      "1 134\n",
      "1 133\n",
      "1 132\n",
      "1 131\n",
      "1 130\n",
      "1 129\n",
      "1 128\n",
      "1 127\n",
      "1 126\n",
      "1 125\n",
      "1 124\n",
      "2 123\n",
      "1 122\n",
      "1 121\n",
      "1 120\n",
      "1 119\n",
      "1 118\n",
      "1 117\n",
      "1 116\n",
      "1 115\n",
      "1 114\n",
      "3 113\n",
      "2 112\n",
      "1 111\n",
      "1 110\n",
      "1 109\n",
      "1 108\n",
      "1 107\n",
      "2 106\n",
      "1 105\n",
      "1 104\n",
      "1 103\n",
      "1 102\n",
      "1 101\n",
      "1 100\n",
      "1 99\n",
      "1 98\n",
      "1 97\n",
      "1 96\n",
      "3 95\n",
      "1 94\n",
      "1 93\n",
      "1 92\n",
      "1 91\n",
      "1 90\n",
      "1 89\n",
      "1 88\n",
      "1 87\n",
      "1 86\n",
      "1 85\n",
      "1 84\n",
      "1 83\n",
      "1 82\n",
      "1 81\n",
      "2 80\n",
      "1 79\n",
      "1 78\n",
      "1 77\n",
      "1 76\n",
      "1 75\n",
      "1 74\n",
      "1 73\n",
      "1 72\n",
      "1 71\n",
      "1 70\n",
      "1 69\n",
      "1 68\n",
      "1 67\n",
      "1 66\n",
      "1 65\n",
      "1 64\n",
      "1 63\n",
      "1 62\n",
      "1 61\n",
      "1 60\n",
      "2 59\n",
      "1 58\n",
      "1 57\n",
      "2 56\n",
      "2 55\n",
      "1 54\n",
      "1 53\n",
      "1 52\n",
      "1 51\n",
      "1 50\n",
      "1 49\n",
      "1 48\n",
      "1 47\n",
      "1 46\n",
      "1 45\n",
      "36 44\n",
      "16 43\n",
      "13 42\n",
      "16 41\n",
      "27 40\n",
      "2 39\n",
      "39 38\n",
      "20 37\n",
      "34 36\n",
      "15 35\n",
      "14 34\n",
      "17 33\n",
      "10 32\n",
      "34 31\n",
      "12 30\n",
      "15 29\n",
      "14 28\n",
      "36 27\n",
      "44 26\n",
      "15 25\n",
      "30 24\n",
      "19 23\n",
      "22 22\n",
      "25 21\n",
      "12 20\n",
      "10 19\n",
      "11 18\n",
      "43 17\n",
      "28 16\n",
      "12 15\n",
      "20 14\n"
     ]
    }
   ],
   "source": [
    "for ins in inst:\n",
    "    print(ins['id'], ins['timestep'])"
   ]
  },
  {
   "cell_type": "code",
   "execution_count": null,
   "metadata": {},
   "outputs": [],
   "source": []
  }
 ],
 "metadata": {
  "kernelspec": {
   "display_name": "Python 3.10.4 ('jeonpy': conda)",
   "language": "python",
   "name": "python3"
  },
  "language_info": {
   "codemirror_mode": {
    "name": "ipython",
    "version": 3
   },
   "file_extension": ".py",
   "mimetype": "text/x-python",
   "name": "python",
   "nbconvert_exporter": "python",
   "pygments_lexer": "ipython3",
   "version": "3.10.4"
  },
  "orig_nbformat": 4,
  "vscode": {
   "interpreter": {
    "hash": "928fe3b0bf83d1446d29d898280f37d3e1faf7b4f2cfa3ce909854a28f42a301"
   }
  }
 },
 "nbformat": 4,
 "nbformat_minor": 2
}
